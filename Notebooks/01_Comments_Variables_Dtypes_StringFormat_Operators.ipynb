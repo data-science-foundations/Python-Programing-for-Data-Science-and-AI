{
 "cells": [
  {
   "attachments": {},
   "cell_type": "markdown",
   "metadata": {},
   "source": [
    "## <span style=\"color:gray\"> ***Data Science Foundations***  </span>\n",
    "[www.datasciencefoundations.com](https://www.datasciencefoundations.com/)\n",
    "<hr/>\n",
    "\n",
    "## Python For Data Science and AI: \n",
    "# Python Programing Basics - Data Types, Variables, String Formatting and Operators\n",
    "\n",
    "[Sumudu Tennakoon, PhD](https://www.linkedin.com/in/sumudutennakoon) \n",
    "<hr/>\n",
    "\n",
    "In this notebook we will explore some basic fetures on Python programming language for anyone who is ready to get start with coding in Python.\n",
    "\n",
    "Visit Data Science Foundations YouTube Channel for the Video Lesson: [youtube.com/@DataScienceFoundations](https://www.youtube.com/@DataScienceFoundations)\n",
    "\n",
    "### Notebook Content\n",
    "1. Comments\n",
    "2. Printing to Screen\n",
    "3. Variables and Data Types\n",
    "4. Numeric Data\n",
    "5. String Formatting\n",
    "6. Operators\n",
    "\n",
    "You can learn more about Python programing language from the official web page www.python.org\n",
    "\n",
    "<hr/>\n",
    "\n"
   ]
  },
  {
   "attachments": {},
   "cell_type": "markdown",
   "metadata": {},
   "source": [
    "# Comments"
   ]
  },
  {
   "cell_type": "code",
   "execution_count": 1,
   "metadata": {},
   "outputs": [],
   "source": [
    "# This is a single line comment"
   ]
  },
  {
   "cell_type": "code",
   "execution_count": 2,
   "metadata": {},
   "outputs": [
    {
     "data": {
      "text/plain": [
       "'\\nThis\\nis \\na \\nmulti-line\\ncomment\\n'"
      ]
     },
     "execution_count": 2,
     "metadata": {},
     "output_type": "execute_result"
    }
   ],
   "source": [
    "\"\"\"\n",
    "This\n",
    "is \n",
    "a \n",
    "multi-line\n",
    "comment\n",
    "\"\"\""
   ]
  },
  {
   "cell_type": "code",
   "execution_count": null,
   "metadata": {},
   "outputs": [],
   "source": [
    "'''\n",
    "This\n",
    "is \n",
    "a \n",
    "multi-line\n",
    "comment\n",
    "'''"
   ]
  },
  {
   "cell_type": "code",
   "execution_count": null,
   "metadata": {},
   "outputs": [],
   "source": [
    "# This\n",
    "# Is\n",
    "# a\n",
    "# multi-line\n",
    "# comment"
   ]
  },
  {
   "cell_type": "code",
   "execution_count": null,
   "metadata": {},
   "outputs": [],
   "source": [
    "# a = 3"
   ]
  },
  {
   "attachments": {},
   "cell_type": "markdown",
   "metadata": {},
   "source": [
    "# Print"
   ]
  },
  {
   "cell_type": "code",
   "execution_count": 3,
   "metadata": {},
   "outputs": [
    {
     "name": "stdout",
     "output_type": "stream",
     "text": [
      "Hello Universe\n"
     ]
    }
   ],
   "source": [
    "print(\"Hello Universe\")"
   ]
  },
  {
   "cell_type": "code",
   "execution_count": 4,
   "metadata": {},
   "outputs": [
    {
     "name": "stdout",
     "output_type": "stream",
     "text": [
      "Hello\n",
      "Universe\n"
     ]
    }
   ],
   "source": [
    "print(\"Hello\")\n",
    "print(\"Universe\")"
   ]
  },
  {
   "cell_type": "code",
   "execution_count": 5,
   "metadata": {},
   "outputs": [
    {
     "name": "stdout",
     "output_type": "stream",
     "text": [
      "Hello\n",
      "Universe\n"
     ]
    }
   ],
   "source": [
    "print(\"Hello\\nUniverse\")"
   ]
  },
  {
   "cell_type": "code",
   "execution_count": 8,
   "metadata": {},
   "outputs": [
    {
     "name": "stdout",
     "output_type": "stream",
     "text": [
      "ID\tFName\tLName\tAge\n",
      "101\tJohn\tDoe\t25\n",
      "102\tJane\tDoe\t20\n"
     ]
    }
   ],
   "source": [
    "print(\"ID\\tFName\\tLName\\tAge\")\n",
    "print(\"101\\tJohn\\tDoe\\t25\")\n",
    "print(\"102\\tJane\\tDoe\\t20\")"
   ]
  },
  {
   "cell_type": "code",
   "execution_count": 10,
   "metadata": {},
   "outputs": [
    {
     "name": "stdout",
     "output_type": "stream",
     "text": [
      "Hello Universe\n",
      "Let's Learn Python."
     ]
    }
   ],
   "source": [
    "print(\"Hello \", end = '')\n",
    "print(\"Universe\", end = '\\n')\n",
    "print(\"Let's Learn Python\", end = '.')"
   ]
  },
  {
   "cell_type": "code",
   "execution_count": 12,
   "metadata": {},
   "outputs": [
    {
     "name": "stdout",
     "output_type": "stream",
     "text": [
      "ID FName LName Age\n",
      "101 John Doe 25\n"
     ]
    }
   ],
   "source": [
    "print(\"ID\",\"FName\",\"LName\",\"Age\")\n",
    "print(\"101\",\"John\",\"Doe\",\"25\")"
   ]
  },
  {
   "cell_type": "code",
   "execution_count": 13,
   "metadata": {},
   "outputs": [
    {
     "name": "stdout",
     "output_type": "stream",
     "text": [
      "ID\tFName\tLName\tAge\n",
      "101\tJohn\tDoe\t25\n"
     ]
    }
   ],
   "source": [
    "print(\"ID\",\"FName\",\"LName\",\"Age\", sep='\\t')\n",
    "print(\"101\",\"John\",\"Doe\",\"25\", sep='\\t')"
   ]
  },
  {
   "cell_type": "code",
   "execution_count": 14,
   "metadata": {},
   "outputs": [
    {
     "name": "stdout",
     "output_type": "stream",
     "text": [
      "ID-FName-LName-Age\n"
     ]
    }
   ],
   "source": [
    "print(\"ID\",\"FName\",\"LName\",\"Age\", sep='-')"
   ]
  },
  {
   "attachments": {},
   "cell_type": "markdown",
   "metadata": {},
   "source": [
    "## Variables and Data Types"
   ]
  },
  {
   "cell_type": "code",
   "execution_count": 1,
   "metadata": {},
   "outputs": [],
   "source": [
    "a = 2"
   ]
  },
  {
   "cell_type": "code",
   "execution_count": 2,
   "metadata": {},
   "outputs": [
    {
     "name": "stdout",
     "output_type": "stream",
     "text": [
      "<class 'int'>\n"
     ]
    }
   ],
   "source": [
    "print( type(a) )"
   ]
  },
  {
   "cell_type": "code",
   "execution_count": 3,
   "metadata": {},
   "outputs": [
    {
     "name": "stdout",
     "output_type": "stream",
     "text": [
      "<class 'float'>\n"
     ]
    }
   ],
   "source": [
    "b = 3.14\n",
    "\n",
    "print( type(b) )"
   ]
  },
  {
   "cell_type": "code",
   "execution_count": 4,
   "metadata": {},
   "outputs": [
    {
     "name": "stdout",
     "output_type": "stream",
     "text": [
      "2\n",
      "3.14\n"
     ]
    }
   ],
   "source": [
    "print(a)\n",
    "print(b)"
   ]
  },
  {
   "cell_type": "code",
   "execution_count": 5,
   "metadata": {},
   "outputs": [
    {
     "name": "stdout",
     "output_type": "stream",
     "text": [
      "2\n",
      "1.68\n"
     ]
    }
   ],
   "source": [
    "a, b = 2, 1.68\n",
    "\n",
    "print(a)\n",
    "print(b)"
   ]
  },
  {
   "cell_type": "code",
   "execution_count": 6,
   "metadata": {},
   "outputs": [
    {
     "name": "stdout",
     "output_type": "stream",
     "text": [
      "3.14\n",
      "<class 'float'>\n"
     ]
    }
   ],
   "source": [
    "a = 3.14\n",
    "\n",
    "print(a)\n",
    "print( type(a) )"
   ]
  },
  {
   "attachments": {},
   "cell_type": "markdown",
   "metadata": {},
   "source": [
    "## Variable Address"
   ]
  },
  {
   "cell_type": "code",
   "execution_count": 7,
   "metadata": {},
   "outputs": [
    {
     "name": "stdout",
     "output_type": "stream",
     "text": [
      "<class 'int'>\n",
      "2675092685072\n"
     ]
    }
   ],
   "source": [
    "a = 2\n",
    "\n",
    "print( type(a) )\n",
    "\n",
    "print( id(a) )"
   ]
  },
  {
   "cell_type": "code",
   "execution_count": 8,
   "metadata": {},
   "outputs": [
    {
     "name": "stdout",
     "output_type": "stream",
     "text": [
      "<class 'float'>\n",
      "2675171237264\n"
     ]
    }
   ],
   "source": [
    "print( type(b) )\n",
    "\n",
    "print( id(b) )"
   ]
  },
  {
   "cell_type": "code",
   "execution_count": 9,
   "metadata": {},
   "outputs": [
    {
     "name": "stdout",
     "output_type": "stream",
     "text": [
      "<class 'int'>\n",
      "2675092685104\n"
     ]
    }
   ],
   "source": [
    "a = 3\n",
    "\n",
    "print( type(a) )\n",
    "\n",
    "print( id(a) )"
   ]
  },
  {
   "cell_type": "code",
   "execution_count": 12,
   "metadata": {},
   "outputs": [
    {
     "name": "stdout",
     "output_type": "stream",
     "text": [
      "Before a = b\n",
      "a = 3\n",
      "b = 1.68\n",
      "id(a) = 2675092685104\n",
      "id(b) = 2675171237264\n",
      "type(a) = <class 'int'>\n",
      "type(b) = <class 'float'>\n",
      "After a = b\n",
      "a = 1.68\n",
      "b = 1.68\n",
      "id(a) = 2675171237264\n",
      "id(b) = 2675171237264\n",
      "type(a) = <class 'float'>\n",
      "type(b) = <class 'float'>\n"
     ]
    }
   ],
   "source": [
    "print(\"Before a = b\")\n",
    "print(\"a =\",a)\n",
    "print(\"b =\",b)\n",
    "print(\"id(a) =\", id(a))\n",
    "print(\"id(b) =\", id(b))\n",
    "print(\"type(a) =\", type(a))\n",
    "print(\"type(b) =\", type(b))\n",
    "\n",
    "a = b\n",
    "\n",
    "print(\"After a = b\")\n",
    "print(\"a =\",a)\n",
    "print(\"b =\",b)\n",
    "print(\"id(a) =\", id(a))\n",
    "print(\"id(b) =\", id(b))\n",
    "print(\"type(a) =\", type(a))\n",
    "print(\"type(b) =\", type(b))\n",
    "\n"
   ]
  },
  {
   "cell_type": "code",
   "execution_count": 13,
   "metadata": {},
   "outputs": [
    {
     "name": "stdout",
     "output_type": "stream",
     "text": [
      "After b = 5\n",
      "a = 1.68\n",
      "b = 5\n",
      "id(a) = 2675171237264\n",
      "id(b) = 2675092685168\n",
      "type(a) = <class 'float'>\n",
      "type(b) = <class 'int'>\n"
     ]
    }
   ],
   "source": [
    "b = 5\n",
    "\n",
    "print(\"After b = 5\")\n",
    "print(\"a =\",a)\n",
    "print(\"b =\",b)\n",
    "print(\"id(a) =\", id(a))\n",
    "print(\"id(b) =\", id(b))\n",
    "print(\"type(a) =\", type(a))\n",
    "print(\"type(b) =\", type(b))"
   ]
  },
  {
   "cell_type": "code",
   "execution_count": 14,
   "metadata": {},
   "outputs": [],
   "source": [
    "#Integer\n",
    "a = 1 \n",
    "\n",
    "# Floating Point Number\n",
    "b = 3.14 \n",
    "\n",
    "# Single Character (String in Python)\n",
    "c = 'A' \n",
    "\n",
    "# String\n",
    "d = \"ABC\" \n",
    "\n",
    "# Boolean {True, False}\n",
    "e = True\n",
    "\n",
    "# Represntation of nothing\n",
    "f = None"
   ]
  },
  {
   "cell_type": "code",
   "execution_count": 15,
   "metadata": {},
   "outputs": [
    {
     "name": "stdout",
     "output_type": "stream",
     "text": [
      "value of a =  1  and type of a is  <class 'int'>  and id of a is  2675092685040\n",
      "value of b =  3.14  and type of b is  <class 'float'>  and id of b is  2675171235504\n",
      "value of c =  A  and type of c is  <class 'str'>  and id of c is  2675094385200\n",
      "value of d =  ABC  and type of d is  <class 'str'>  and id of d is  2675093988976\n",
      "value of e =  True  and type of e is  <class 'bool'>  and id of e is  140707657149288\n",
      "value of f =  None  and type of f is  <class 'NoneType'>  and id of f is  140707657201656\n"
     ]
    }
   ],
   "source": [
    "print(\"value of a = \", a, \" and type of a is \", type(a), \" and id of a is \", id(a))\n",
    "print(\"value of b = \", b, \" and type of b is \", type(b), \" and id of b is \", id(b))\n",
    "print(\"value of c = \", c, \" and type of c is \", type(c), \" and id of c is \", id(c))\n",
    "print(\"value of d = \", d, \" and type of d is \", type(d), \" and id of d is \", id(d))\n",
    "print(\"value of e = \", e, \" and type of e is \", type(e), \" and id of e is \", id(e))\n",
    "print(\"value of f = \", f, \" and type of f is \", type(f), \" and id of f is \", id(f))"
   ]
  },
  {
   "cell_type": "code",
   "execution_count": 17,
   "metadata": {},
   "outputs": [
    {
     "name": "stdout",
     "output_type": "stream",
     "text": [
      "value of g =  True  and type of g is  <class 'str'>\n",
      "value of h =  False  and type of h is  <class 'bool'>\n",
      "value of k =  3.14  and type of k is  <class 'str'>\n"
     ]
    }
   ],
   "source": [
    "g = 'True'\n",
    "h = False\n",
    "k = \"3.14\"\n",
    "\n",
    "print(\"value of g = \", g, \" and type of g is \", type(g))\n",
    "print(\"value of h = \", h, \" and type of h is \", type(h))\n",
    "print(\"value of k = \", k, \" and type of k is \", type(k))"
   ]
  },
  {
   "attachments": {},
   "cell_type": "markdown",
   "metadata": {},
   "source": [
    "## Type Casting"
   ]
  },
  {
   "cell_type": "code",
   "execution_count": 18,
   "metadata": {},
   "outputs": [
    {
     "name": "stdout",
     "output_type": "stream",
     "text": [
      "2.0\n"
     ]
    }
   ],
   "source": [
    "print( float(2) )"
   ]
  },
  {
   "cell_type": "code",
   "execution_count": 25,
   "metadata": {},
   "outputs": [
    {
     "name": "stdout",
     "output_type": "stream",
     "text": [
      "3\n"
     ]
    }
   ],
   "source": [
    "print( int(3.14) )"
   ]
  },
  {
   "cell_type": "code",
   "execution_count": 21,
   "metadata": {},
   "outputs": [
    {
     "name": "stdout",
     "output_type": "stream",
     "text": [
      "210\n"
     ]
    }
   ],
   "source": [
    "print( int(\"210\") )"
   ]
  },
  {
   "cell_type": "code",
   "execution_count": 23,
   "metadata": {},
   "outputs": [
    {
     "name": "stdout",
     "output_type": "stream",
     "text": [
      "value of a =  210  and type of a is  <class 'str'>\n",
      "value of a =  210  and type of a is  <class 'int'>\n"
     ]
    }
   ],
   "source": [
    "a = \"210\"\n",
    "\n",
    "print(\"value of a = \", a, \" and type of a is \", type(a))\n",
    "\n",
    "a = int(a)\n",
    "\n",
    "print(\"value of a = \", a, \" and type of a is \", type(a))"
   ]
  },
  {
   "cell_type": "code",
   "execution_count": 26,
   "metadata": {},
   "outputs": [
    {
     "name": "stdout",
     "output_type": "stream",
     "text": [
      "value of a =  3.14  and type of a is  <class 'str'>\n",
      "value of a =  3.14  and type of a is  <class 'float'>\n"
     ]
    }
   ],
   "source": [
    "a = \"3.14\"\n",
    "\n",
    "print(\"value of a = \", a, \" and type of a is \", type(a))\n",
    "\n",
    "a = float(a)\n",
    "\n",
    "print(\"value of a = \", a, \" and type of a is \", type(a))"
   ]
  },
  {
   "cell_type": "code",
   "execution_count": 28,
   "metadata": {},
   "outputs": [
    {
     "name": "stdout",
     "output_type": "stream",
     "text": [
      "value of a =  4.5  and type of a is  <class 'float'>\n",
      "value of a =  4.5  and type of a is  <class 'str'>\n"
     ]
    }
   ],
   "source": [
    "a = 4.5\n",
    "\n",
    "print(\"value of a = \", a, \" and type of a is \", type(a))\n",
    "\n",
    "a = str(a)\n",
    "\n",
    "print(\"value of a = \", a, \" and type of a is \", type(a))"
   ]
  },
  {
   "cell_type": "code",
   "execution_count": 29,
   "metadata": {},
   "outputs": [
    {
     "name": "stdout",
     "output_type": "stream",
     "text": [
      "value of a =  1001  and type of a is  <class 'int'>\n",
      "value of a =  1001  and type of a is  <class 'str'>\n"
     ]
    }
   ],
   "source": [
    "a = 1001\n",
    "\n",
    "print(\"value of a = \", a, \" and type of a is \", type(a))\n",
    "\n",
    "a = str(a)\n",
    "\n",
    "print(\"value of a = \", a, \" and type of a is \", type(a))"
   ]
  },
  {
   "attachments": {},
   "cell_type": "markdown",
   "metadata": {},
   "source": [
    "# Python Object Naming\n",
    "***Everything in Python is an Object***\n",
    "#### Rules\n",
    "* Must start with a letter or the underscore (A-z, _ )\n",
    "* Only alpha-numeric characters and underscores (A-z, 0-9, _ ) are allowed.\n",
    "* Case-sensitive (Name, NAME, name, nAME are our different object name)\n",
    "\n",
    "#### Convections\n",
    "* Never use l, I, O alone\n",
    "* Example names\n",
    "    * x\n",
    "    * my_variable\n",
    "    * MY_CONSTANT\n",
    "    * my_function\n",
    "    * MyClass\n",
    "    * mypackage"
   ]
  },
  {
   "cell_type": "code",
   "execution_count": null,
   "metadata": {},
   "outputs": [],
   "source": [
    "item = 123 \n",
    "\n",
    "ITEM = 234\n",
    "\n",
    "Item = 345"
   ]
  },
  {
   "cell_type": "code",
   "execution_count": null,
   "metadata": {},
   "outputs": [],
   "source": [
    "name = \"Sam\"\n",
    "\n",
    "age = 25\n",
    "\n",
    "a = 25"
   ]
  },
  {
   "cell_type": "code",
   "execution_count": null,
   "metadata": {},
   "outputs": [],
   "source": [
    "l = 5\n",
    "I = 6\n"
   ]
  },
  {
   "cell_type": "code",
   "execution_count": null,
   "metadata": {},
   "outputs": [],
   "source": [
    "name = \"Sam\"\n",
    "\n",
    "last_name = \"Peter\"\n"
   ]
  },
  {
   "cell_type": "code",
   "execution_count": null,
   "metadata": {},
   "outputs": [],
   "source": [
    "PI = 3.142"
   ]
  },
  {
   "attachments": {
    "image.png": {
     "image/png": "[encoded data removed]"
    }
   },
   "cell_type": "markdown",
   "metadata": {},
   "source": [
    "## Reserved Words (Keywords)\n",
    "![image.png](attachment:image.png)\n",
    "\n",
    "https://docs.python.org/3/reference/lexical_analysis.html#keywords\n"
   ]
  },
  {
   "cell_type": "code",
   "execution_count": 30,
   "metadata": {},
   "outputs": [
    {
     "ename": "SyntaxError",
     "evalue": "invalid syntax (390041413.py, line 1)",
     "output_type": "error",
     "traceback": [
      "\u001b[1;36m  Cell \u001b[1;32mIn[30], line 1\u001b[1;36m\u001b[0m\n\u001b[1;33m    global = 10\u001b[0m\n\u001b[1;37m           ^\u001b[0m\n\u001b[1;31mSyntaxError\u001b[0m\u001b[1;31m:\u001b[0m invalid syntax\n"
     ]
    }
   ],
   "source": [
    "global = 10"
   ]
  },
  {
   "attachments": {
    "image.png": {
     "image/png": "[encoded data removed]"
    }
   },
   "cell_type": "markdown",
   "metadata": {},
   "source": [
    "## Buit-in Functions\n",
    "\n",
    "![image.png](attachment:image.png)\n",
    "https://docs.python.org/3/library/functions.html"
   ]
  },
  {
   "cell_type": "code",
   "execution_count": 31,
   "metadata": {},
   "outputs": [
    {
     "data": {
      "text/plain": [
       "2675173880176"
      ]
     },
     "execution_count": 31,
     "metadata": {},
     "output_type": "execute_result"
    }
   ],
   "source": [
    "id(a)"
   ]
  },
  {
   "cell_type": "code",
   "execution_count": 35,
   "metadata": {},
   "outputs": [
    {
     "name": "stdout",
     "output_type": "stream",
     "text": [
      "24\n",
      "<class 'int'>\n"
     ]
    }
   ],
   "source": [
    "id = 24\n",
    "\n",
    "print(id)\n",
    "print(type(id))"
   ]
  },
  {
   "cell_type": "code",
   "execution_count": 36,
   "metadata": {},
   "outputs": [
    {
     "ename": "TypeError",
     "evalue": "'int' object is not callable",
     "output_type": "error",
     "traceback": [
      "\u001b[1;31m---------------------------------------------------------------------------\u001b[0m",
      "\u001b[1;31mTypeError\u001b[0m                                 Traceback (most recent call last)",
      "Cell \u001b[1;32mIn[36], line 1\u001b[0m\n\u001b[1;32m----> 1\u001b[0m \u001b[39mid\u001b[39;49m(a)\n",
      "\u001b[1;31mTypeError\u001b[0m: 'int' object is not callable"
     ]
    }
   ],
   "source": [
    "id(a)"
   ]
  },
  {
   "cell_type": "code",
   "execution_count": 37,
   "metadata": {},
   "outputs": [],
   "source": [
    "del(id)"
   ]
  },
  {
   "cell_type": "code",
   "execution_count": 38,
   "metadata": {},
   "outputs": [
    {
     "data": {
      "text/plain": [
       "2675173880176"
      ]
     },
     "execution_count": 38,
     "metadata": {},
     "output_type": "execute_result"
    }
   ],
   "source": [
    "id(a)"
   ]
  },
  {
   "attachments": {
    "image.png": {
     "image/png": "[encoded data removed]"
    }
   },
   "cell_type": "markdown",
   "metadata": {},
   "source": [
    "# Represnetation of Number Systems\n",
    "\n",
    "![image.png](attachment:image.png)\n"
   ]
  },
  {
   "cell_type": "code",
   "execution_count": 42,
   "metadata": {},
   "outputs": [
    {
     "name": "stdout",
     "output_type": "stream",
     "text": [
      "value of a =  10  and type of a is  <class 'int'>\n"
     ]
    }
   ],
   "source": [
    "a = 10\n",
    "\n",
    "print(\"value of a = \", a, \" and type of a is \", type(a))"
   ]
  },
  {
   "cell_type": "code",
   "execution_count": 41,
   "metadata": {},
   "outputs": [
    {
     "name": "stdout",
     "output_type": "stream",
     "text": [
      "value of m =  2  and type of m is  <class 'int'>\n",
      "value of n =  8  and type of n is  <class 'int'>\n",
      "value of p =  16  and type of p is  <class 'int'>\n"
     ]
    }
   ],
   "source": [
    "m = 0b10 # Binary Representation\n",
    "n = 0o10 # Octal Representation\n",
    "p = 0x10 # Hexadecimal Representation\n",
    "\n",
    "print(\"value of m = \", m, \" and type of m is \", type(m))\n",
    "print(\"value of n = \", n, \" and type of n is \", type(n))\n",
    "print(\"value of p = \", p, \" and type of p is \", type(p))"
   ]
  },
  {
   "cell_type": "code",
   "execution_count": 43,
   "metadata": {},
   "outputs": [
    {
     "name": "stdout",
     "output_type": "stream",
     "text": [
      "value of m1 =  0b10  and type of m1 is  <class 'str'>\n"
     ]
    }
   ],
   "source": [
    "m1 = bin(2)\n",
    "\n",
    "print(\"value of m1 = \", m1, \" and type of m1 is \", type(m1))"
   ]
  },
  {
   "cell_type": "code",
   "execution_count": 45,
   "metadata": {},
   "outputs": [
    {
     "name": "stdout",
     "output_type": "stream",
     "text": [
      "value of m1 =  0b1000  and type of m1 is  <class 'str'>\n",
      "value of n1 =  0o40  and type of n1 is  <class 'str'>\n",
      "value of p1 =  0x18  and type of p1 is  <class 'str'>\n"
     ]
    }
   ],
   "source": [
    "m1 = bin(8) # Decimal to Binary\n",
    "n1 = oct(32) # Decimal to Octal\n",
    "p1 = hex(24) # Decimal to Hexadecimal\n",
    "\n",
    "print(\"value of m1 = \", m1, \" and type of m1 is \", type(m1))\n",
    "print(\"value of n1 = \", n1, \" and type of n1 is \", type(n1))\n",
    "print(\"value of p1 = \", p1, \" and type of p1 is \", type(p1))"
   ]
  },
  {
   "cell_type": "code",
   "execution_count": 46,
   "metadata": {},
   "outputs": [
    {
     "data": {
      "text/plain": [
       "'0b1000'"
      ]
     },
     "execution_count": 46,
     "metadata": {},
     "output_type": "execute_result"
    }
   ],
   "source": [
    "m1"
   ]
  },
  {
   "cell_type": "code",
   "execution_count": 49,
   "metadata": {},
   "outputs": [
    {
     "name": "stdout",
     "output_type": "stream",
     "text": [
      "8\n"
     ]
    }
   ],
   "source": [
    "print( int(m1, base=2) )"
   ]
  },
  {
   "cell_type": "code",
   "execution_count": 50,
   "metadata": {},
   "outputs": [
    {
     "name": "stdout",
     "output_type": "stream",
     "text": [
      "32\n"
     ]
    }
   ],
   "source": [
    "print( int(n1 , base=8) )"
   ]
  },
  {
   "cell_type": "code",
   "execution_count": 51,
   "metadata": {},
   "outputs": [
    {
     "name": "stdout",
     "output_type": "stream",
     "text": [
      "24\n"
     ]
    }
   ],
   "source": [
    "print( int(p1 , base=16) )"
   ]
  },
  {
   "attachments": {
    "image.png": {
     "image/png": "[encoded data removed]"
    }
   },
   "cell_type": "markdown",
   "metadata": {},
   "source": [
    "## Complex Numbers\n",
    "\n",
    "![image.png](attachment:image.png)"
   ]
  },
  {
   "cell_type": "code",
   "execution_count": 52,
   "metadata": {},
   "outputs": [
    {
     "name": "stdout",
     "output_type": "stream",
     "text": [
      "value of q =  (1+2j)  and type of q is  <class 'complex'>\n",
      "value of r =  (1-2j)  and type of r is  <class 'complex'>\n"
     ]
    }
   ],
   "source": [
    "q = 1+2j\n",
    "\n",
    "r = 1-2j\n",
    "\n",
    "print(\"value of q = \", q, \" and type of q is \", type(q))\n",
    "print(\"value of r = \", r, \" and type of r is \", type(r))"
   ]
  },
  {
   "cell_type": "code",
   "execution_count": 53,
   "metadata": {},
   "outputs": [
    {
     "name": "stdout",
     "output_type": "stream",
     "text": [
      "real part of q =  1.0\n",
      "imaginary part of q =  2.0\n"
     ]
    }
   ],
   "source": [
    "print(\"real part of q = \", q.real)\n",
    "print(\"imaginary part of q = \", q.imag)"
   ]
  },
  {
   "cell_type": "code",
   "execution_count": 54,
   "metadata": {},
   "outputs": [
    {
     "name": "stdout",
     "output_type": "stream",
     "text": [
      "real part of q =  2.5\n",
      "imaginary part of q =  -3.6\n"
     ]
    }
   ],
   "source": [
    "q = 2.5-3.6j\n",
    "\n",
    "print(\"real part of q = \", q.real)\n",
    "print(\"imaginary part of q = \", q.imag)"
   ]
  },
  {
   "cell_type": "code",
   "execution_count": 55,
   "metadata": {},
   "outputs": [
    {
     "name": "stdout",
     "output_type": "stream",
     "text": [
      "1\n"
     ]
    }
   ],
   "source": [
    "number = 1\n",
    "\n",
    "match number:\n",
    "    case 1: \n",
    "        print(\"1\")\n"
   ]
  },
  {
   "attachments": {},
   "cell_type": "markdown",
   "metadata": {},
   "source": [
    "# String Data"
   ]
  },
  {
   "attachments": {},
   "cell_type": "markdown",
   "metadata": {},
   "source": [
    "## Convert Data Types to String"
   ]
  },
  {
   "cell_type": "code",
   "execution_count": 1,
   "metadata": {},
   "outputs": [
    {
     "name": "stdout",
     "output_type": "stream",
     "text": [
      "a_type is  <class 'int'> \n",
      " a_str_type is <class 'str'>\n"
     ]
    }
   ],
   "source": [
    "a = 1\n",
    "a_type = type(a)\n",
    "\n",
    "a_str = str(a)\n",
    "a_str_type= type(a_str)\n",
    "\n",
    "print(\"a_type is \", a_type, \"\\n\", \"a_str_type is\", a_str_type)"
   ]
  },
  {
   "attachments": {},
   "cell_type": "markdown",
   "metadata": {},
   "source": [
    "## Concatanate Strings with `+`"
   ]
  },
  {
   "cell_type": "code",
   "execution_count": 2,
   "metadata": {},
   "outputs": [
    {
     "ename": "TypeError",
     "evalue": "unsupported operand type(s) for +: 'int' and 'str'",
     "output_type": "error",
     "traceback": [
      "\u001b[1;31m---------------------------------------------------------------------------\u001b[0m",
      "\u001b[1;31mTypeError\u001b[0m                                 Traceback (most recent call last)",
      "Cell \u001b[1;32mIn[2], line 1\u001b[0m\n\u001b[1;32m----> 1\u001b[0m \u001b[39m1\u001b[39;49m \u001b[39m+\u001b[39;49m \u001b[39m\"\u001b[39;49m\u001b[39mthis is a string\u001b[39;49m\u001b[39m\"\u001b[39;49m\n",
      "\u001b[1;31mTypeError\u001b[0m: unsupported operand type(s) for +: 'int' and 'str'"
     ]
    }
   ],
   "source": [
    "1 + \"this is a string\""
   ]
  },
  {
   "cell_type": "code",
   "execution_count": 3,
   "metadata": {},
   "outputs": [
    {
     "name": "stdout",
     "output_type": "stream",
     "text": [
      "value of a = 1 and type of a is <class 'int'>\n"
     ]
    }
   ],
   "source": [
    "a = 1\n",
    "a_type = type(a)\n",
    "\n",
    "note = \"value of a = \" + str(a) + \" and type of a is \" + str(a_type)\n",
    "\n",
    "print(note)"
   ]
  },
  {
   "attachments": {},
   "cell_type": "markdown",
   "metadata": {},
   "source": [
    "##  String Multiplication with `*`"
   ]
  },
  {
   "cell_type": "code",
   "execution_count": 4,
   "metadata": {},
   "outputs": [
    {
     "name": "stdout",
     "output_type": "stream",
     "text": [
      "Hello!Hello!Hello!Hello!Hello!Hello!Hello!Hello!Hello!Hello!\n"
     ]
    }
   ],
   "source": [
    "greeting = \"Hello!\"\n",
    "\n",
    "print( greeting*10 )"
   ]
  },
  {
   "cell_type": "code",
   "execution_count": 5,
   "metadata": {},
   "outputs": [
    {
     "data": {
      "text/plain": [
       "'123123123'"
      ]
     },
     "execution_count": 5,
     "metadata": {},
     "output_type": "execute_result"
    }
   ],
   "source": [
    "new_str = \"123\"*3"
   ]
  },
  {
   "cell_type": "code",
   "execution_count": 7,
   "metadata": {},
   "outputs": [
    {
     "name": "stdout",
     "output_type": "stream",
     "text": [
      "=^=^=^=^=^=^=^=^=^=^=^=^=^=^=^=^=^=^=^=^=^=^=^=^=^=^=^=^=^=^=^=^=^=^=^=^=^=^=^=^=^=^=^=^=^=^=^=^=^=^=^=^=^=^=^=^=^=^=^=^=^=^=^=^=^=^=^=^=^=^=^=^=^=^=^=^=^=^=^=^\n",
      "****************************************************************************************************************************************************************\n",
      "=^=^=^=^=^=^=^=^=^=^=^=^=^=^=^=^=^=^=^=^=^=^=^=^=^=^=^=^=^=^=^=^=^=^=^=^=^=^=^=^=^=^=^=^=^=^=^=^=^=^=^=^=^=^=^=^=^=^=^=^=^=^=^=^=^=^=^=^=^=^=^=^=^=^=^=^=^=^=^=^\n"
     ]
    }
   ],
   "source": [
    "print(\"=^\"*80)\n",
    "print(\"**\"*80)\n",
    "print(\"=^\"*80)"
   ]
  },
  {
   "attachments": {},
   "cell_type": "markdown",
   "metadata": {},
   "source": [
    "## Escape Characters"
   ]
  },
  {
   "cell_type": "code",
   "execution_count": 8,
   "metadata": {},
   "outputs": [
    {
     "name": "stdout",
     "output_type": "stream",
     "text": [
      "Hello\n",
      "Universe\n",
      "Let's Learn\n",
      "Python\n"
     ]
    }
   ],
   "source": [
    "# New Line (\\n)\n",
    "para = \"Hello\\nUniverse\\nLet's Learn\\nPython\"\n",
    "print(para)"
   ]
  },
  {
   "cell_type": "code",
   "execution_count": 10,
   "metadata": {},
   "outputs": [
    {
     "name": "stdout",
     "output_type": "stream",
     "text": [
      "Name\tAge\n",
      "John\t21\n",
      "Peter\t22\n"
     ]
    }
   ],
   "source": [
    "# Tab(\\t)\n",
    "para = \"Name\\tAge\\nJohn\\t21\\nPeter\\t22\"\n",
    "print(para)"
   ]
  },
  {
   "attachments": {},
   "cell_type": "markdown",
   "metadata": {},
   "source": [
    "## Multi-line String"
   ]
  },
  {
   "cell_type": "code",
   "execution_count": 13,
   "metadata": {},
   "outputs": [
    {
     "name": "stdout",
     "output_type": "stream",
     "text": [
      "Hello\n",
      "Universe\n",
      "Let's Learn\n",
      "Python\n",
      "\n"
     ]
    }
   ],
   "source": [
    "para = \"\"\"Hello\n",
    "Universe\n",
    "Let's Learn\n",
    "Python\n",
    "\"\"\"\n",
    "\n",
    "print(para)"
   ]
  },
  {
   "cell_type": "code",
   "execution_count": 14,
   "metadata": {},
   "outputs": [
    {
     "data": {
      "text/plain": [
       "\"Hello\\nUniverse\\nLet's Learn\\nPython\\n\""
      ]
     },
     "execution_count": 14,
     "metadata": {},
     "output_type": "execute_result"
    }
   ],
   "source": [
    "para"
   ]
  },
  {
   "attachments": {},
   "cell_type": "markdown",
   "metadata": {},
   "source": [
    "## Raw Strings (`r''`) "
   ]
  },
  {
   "cell_type": "code",
   "execution_count": 17,
   "metadata": {},
   "outputs": [
    {
     "name": "stdout",
     "output_type": "stream",
     "text": [
      "C:\\flower\\tulip\n"
     ]
    }
   ],
   "source": [
    "folder_path = r\"C:\\flower\\tulip\"\n",
    "print(folder_path)"
   ]
  },
  {
   "cell_type": "code",
   "execution_count": 18,
   "metadata": {},
   "outputs": [
    {
     "name": "stdout",
     "output_type": "stream",
     "text": [
      "C:\\flower\\tulip\n"
     ]
    }
   ],
   "source": [
    "folder_path = \"C:\\\\flower\\\\tulip\"\n",
    "print(folder_path)"
   ]
  },
  {
   "attachments": {},
   "cell_type": "markdown",
   "metadata": {},
   "source": [
    "## Byte Strings (`b''`)"
   ]
  },
  {
   "cell_type": "code",
   "execution_count": 19,
   "metadata": {},
   "outputs": [
    {
     "name": "stdout",
     "output_type": "stream",
     "text": [
      "b'\\xf0\\x9f\\x92\\xbb'\n"
     ]
    }
   ],
   "source": [
    "num_bytes = b'\\xF0\\x9F\\x92\\xBB'\n",
    "print(num_bytes)\n"
   ]
  },
  {
   "cell_type": "code",
   "execution_count": 20,
   "metadata": {},
   "outputs": [
    {
     "data": {
      "text/plain": [
       "'💻'"
      ]
     },
     "execution_count": 20,
     "metadata": {},
     "output_type": "execute_result"
    }
   ],
   "source": [
    "num_bytes.decode()"
   ]
  },
  {
   "cell_type": "code",
   "execution_count": 21,
   "metadata": {},
   "outputs": [
    {
     "data": {
      "text/plain": [
       "b'\\xf0\\x9f\\x92\\xbb'"
      ]
     },
     "execution_count": 21,
     "metadata": {},
     "output_type": "execute_result"
    }
   ],
   "source": [
    "num_bytes.decode().encode()"
   ]
  },
  {
   "attachments": {},
   "cell_type": "markdown",
   "metadata": {},
   "source": [
    "## Dynamic Strings"
   ]
  },
  {
   "attachments": {},
   "cell_type": "markdown",
   "metadata": {},
   "source": [
    "### Use `.format()` to Dynamically Modify String"
   ]
  },
  {
   "cell_type": "code",
   "execution_count": 22,
   "metadata": {},
   "outputs": [
    {
     "name": "stdout",
     "output_type": "stream",
     "text": [
      "value of b = 3.1416 and type of b is <class 'float'> - 0\n"
     ]
    }
   ],
   "source": [
    "b = 3.1416\n",
    "b_type = type(b)\n",
    "\n",
    "note = \"value of b = {} and type of b is {} - {}\".format(b, b_type, '0')\n",
    "print(note)"
   ]
  },
  {
   "cell_type": "code",
   "execution_count": 26,
   "metadata": {},
   "outputs": [
    {
     "name": "stdout",
     "output_type": "stream",
     "text": [
      "value of b = 2.123457 and type of b is <class 'float'>\n"
     ]
    }
   ],
   "source": [
    "# With fixed decimal places\n",
    "b = 2.1234567422\n",
    "note = \"value of b = {:.6f} and type of b is {}\".format(b, type(b))\n",
    "print(note)"
   ]
  },
  {
   "cell_type": "code",
   "execution_count": 28,
   "metadata": {},
   "outputs": [
    {
     "name": "stdout",
     "output_type": "stream",
     "text": [
      "value of b = 2.12 and type of b is <class 'float'>\n"
     ]
    }
   ],
   "source": [
    "# Create string first and assign values when using\n",
    "note = \"value of b = {:.2f} and type of b is {}\"\n",
    "\n",
    "print(note.format(b, type(b)))"
   ]
  },
  {
   "cell_type": "code",
   "execution_count": 31,
   "metadata": {},
   "outputs": [
    {
     "name": "stdout",
     "output_type": "stream",
     "text": [
      "value of a = 3 and type of b is 2.557\n"
     ]
    }
   ],
   "source": [
    "a = 3\n",
    "b = 2.55675\n",
    "\n",
    "note = \"value of a = {num1} and type of b is {num2:.3f}\"\n",
    "\n",
    "print(note.format(num2=b, num1=a))"
   ]
  },
  {
   "attachments": {},
   "cell_type": "markdown",
   "metadata": {},
   "source": [
    "## Use F-Strings  (`F\"\"`)"
   ]
  },
  {
   "cell_type": "code",
   "execution_count": 32,
   "metadata": {},
   "outputs": [
    {
     "name": "stdout",
     "output_type": "stream",
     "text": [
      "value of a = 3 and value of b is 2.55675\n"
     ]
    }
   ],
   "source": [
    "a = 3\n",
    "b = 2.55675\n",
    "\n",
    "note = F\"value of a = {a} and value of b is {b}\"\n",
    "print(note)"
   ]
  },
  {
   "cell_type": "code",
   "execution_count": 33,
   "metadata": {},
   "outputs": [
    {
     "name": "stdout",
     "output_type": "stream",
     "text": [
      "value of a  = 3 and value of b is 2.55675, a + b = 5.55675 \n"
     ]
    }
   ],
   "source": [
    "note = F\"value of a  = {a} and value of b is {b}, a + b = {a+b} \"\n",
    "print(note)"
   ]
  },
  {
   "cell_type": "code",
   "execution_count": 34,
   "metadata": {},
   "outputs": [
    {
     "name": "stdout",
     "output_type": "stream",
     "text": [
      "value of a  = 3 and value of b is 2.557, a + b = 5.557 \n"
     ]
    }
   ],
   "source": [
    "# With fixed decimal places\n",
    "note = F\"value of a  = {a} and value of b is {b:.3f}, a + b = {a+b:.3f} \"\n",
    "print(note)"
   ]
  },
  {
   "attachments": {},
   "cell_type": "markdown",
   "metadata": {},
   "source": [
    "## String Formatting "
   ]
  },
  {
   "attachments": {},
   "cell_type": "markdown",
   "metadata": {},
   "source": [
    "### Display Numbers with Thousands Separators"
   ]
  },
  {
   "cell_type": "code",
   "execution_count": 35,
   "metadata": {},
   "outputs": [
    {
     "name": "stdout",
     "output_type": "stream",
     "text": [
      "a = 10000000\n",
      "b = 10002000\n"
     ]
    }
   ],
   "source": [
    "a = 10000000\n",
    "b = 10002000\n",
    "print(F\"a = {a}\")\n",
    "print(F\"b = {b}\")"
   ]
  },
  {
   "cell_type": "code",
   "execution_count": 36,
   "metadata": {},
   "outputs": [
    {
     "name": "stdout",
     "output_type": "stream",
     "text": [
      "<class 'int'>\n",
      "a = 10000000\n",
      "b = 10002000\n"
     ]
    }
   ],
   "source": [
    "a = 10_000_000\n",
    "b = 10_002_000\n",
    "\n",
    "print(type(a))\n",
    "\n",
    "print(F\"a = {a}\")\n",
    "print(F\"b = {b}\")"
   ]
  },
  {
   "cell_type": "code",
   "execution_count": 37,
   "metadata": {},
   "outputs": [
    {
     "name": "stdout",
     "output_type": "stream",
     "text": [
      "a = 10,000,000\n",
      "b = 10,002,000\n"
     ]
    }
   ],
   "source": [
    "a = 10000000\n",
    "b = 10002000\n",
    "print(F\"a = {a:,}\")\n",
    "print(F\"b = {b:,}\")"
   ]
  },
  {
   "cell_type": "code",
   "execution_count": 38,
   "metadata": {},
   "outputs": [
    {
     "name": "stdout",
     "output_type": "stream",
     "text": [
      "a = 10_000_000\n",
      "b = 10_002_000\n"
     ]
    }
   ],
   "source": [
    "a = 10000000\n",
    "b = 10002000\n",
    "print(F\"a = {a:_}\")\n",
    "print(F\"b = {b:_}\")"
   ]
  },
  {
   "attachments": {},
   "cell_type": "markdown",
   "metadata": {},
   "source": [
    "## Decimal Places"
   ]
  },
  {
   "cell_type": "code",
   "execution_count": 39,
   "metadata": {},
   "outputs": [
    {
     "name": "stdout",
     "output_type": "stream",
     "text": [
      "pi = 3.14159265359\n",
      "pi = 3.14159\n",
      "pi = 3.14\n"
     ]
    }
   ],
   "source": [
    "pi = 3.14159265359\n",
    "print(F\"pi = {pi}\")\n",
    "print(F\"pi = {pi:.5f}\")\n",
    "print(F\"pi = {pi:.2f}\")"
   ]
  },
  {
   "attachments": {},
   "cell_type": "markdown",
   "metadata": {},
   "source": [
    "## Display Numbers with Leading Zeros or Spaces"
   ]
  },
  {
   "cell_type": "code",
   "execution_count": 44,
   "metadata": {},
   "outputs": [
    {
     "name": "stdout",
     "output_type": "stream",
     "text": [
      "a = 001015\n",
      "b =   3140\n",
      "b =   3140\n",
      "c = 000124\n"
     ]
    }
   ],
   "source": [
    "a = 1015\n",
    "b = 3140\n",
    "c = 124\n",
    "\n",
    "print(F\"a = {a:06d}\")\n",
    "print(F\"b = {b: 6d}\")\n",
    "print(F\"b = {b:6d}\")\n",
    "print(F\"c = {c:06d}\")"
   ]
  },
  {
   "cell_type": "code",
   "execution_count": 49,
   "metadata": {},
   "outputs": [
    {
     "name": "stdout",
     "output_type": "stream",
     "text": [
      "a =   1050.750\n",
      "b =    210.305\n"
     ]
    }
   ],
   "source": [
    "a = 1050.75\n",
    "b = 210.305\n",
    "\n",
    "print(F\"a = {a:10.3f}\")\n",
    "print(F\"b = {b:10.3f}\")"
   ]
  },
  {
   "attachments": {},
   "cell_type": "markdown",
   "metadata": {},
   "source": [
    "## Percentages"
   ]
  },
  {
   "cell_type": "code",
   "execution_count": 50,
   "metadata": {},
   "outputs": [
    {
     "name": "stdout",
     "output_type": "stream",
     "text": [
      "3 %\n",
      "3.00 %\n"
     ]
    }
   ],
   "source": [
    "qualified_pct = 3 # 3%\n",
    "\n",
    "print(F\"{qualified_pct} %\")\n",
    "print(F\"{qualified_pct:.2f} %\")"
   ]
  },
  {
   "cell_type": "code",
   "execution_count": 51,
   "metadata": {},
   "outputs": [
    {
     "data": {
      "text/plain": [
       "0.03"
      ]
     },
     "execution_count": 51,
     "metadata": {},
     "output_type": "execute_result"
    }
   ],
   "source": [
    "3/100"
   ]
  },
  {
   "cell_type": "code",
   "execution_count": 52,
   "metadata": {},
   "outputs": [
    {
     "name": "stdout",
     "output_type": "stream",
     "text": [
      "3.000000%\n",
      "3.00%\n"
     ]
    }
   ],
   "source": [
    "qualified_frac = 0.03 # 3%\n",
    "\n",
    "print(F\"{qualified_frac:%}\")\n",
    "print(F\"{qualified_frac:.2%}\")"
   ]
  },
  {
   "attachments": {},
   "cell_type": "markdown",
   "metadata": {},
   "source": [
    "## String Manipulations"
   ]
  },
  {
   "cell_type": "code",
   "execution_count": 53,
   "metadata": {},
   "outputs": [
    {
     "name": "stdout",
     "output_type": "stream",
     "text": [
      "Hello\n"
     ]
    }
   ],
   "source": [
    "a = \"Hello\"\n",
    "\n",
    "print(a)"
   ]
  },
  {
   "cell_type": "code",
   "execution_count": 55,
   "metadata": {},
   "outputs": [
    {
     "name": "stdout",
     "output_type": "stream",
     "text": [
      "hello\n"
     ]
    }
   ],
   "source": [
    "print( a.lower() )"
   ]
  },
  {
   "cell_type": "code",
   "execution_count": 56,
   "metadata": {},
   "outputs": [
    {
     "name": "stdout",
     "output_type": "stream",
     "text": [
      "HELLO\n"
     ]
    }
   ],
   "source": [
    "print( a.upper() )"
   ]
  },
  {
   "cell_type": "code",
   "execution_count": 57,
   "metadata": {},
   "outputs": [
    {
     "data": {
      "text/plain": [
       "'Hell0'"
      ]
     },
     "execution_count": 57,
     "metadata": {},
     "output_type": "execute_result"
    }
   ],
   "source": [
    "a.replace('o', '0')"
   ]
  },
  {
   "cell_type": "code",
   "execution_count": null,
   "metadata": {},
   "outputs": [],
   "source": [
    "a = 3 + 4"
   ]
  },
  {
   "attachments": {},
   "cell_type": "markdown",
   "metadata": {},
   "source": [
    "# Operators"
   ]
  },
  {
   "attachments": {},
   "cell_type": "markdown",
   "metadata": {},
   "source": [
    "## Arithmatic Operators"
   ]
  },
  {
   "cell_type": "code",
   "execution_count": 1,
   "metadata": {},
   "outputs": [
    {
     "name": "stdout",
     "output_type": "stream",
     "text": [
      "x = 7\n",
      "y = 3\n"
     ]
    }
   ],
   "source": [
    "x = 7\n",
    "y = 3\n",
    "\n",
    "print(F\"x = {x}\\ny = {y}\")"
   ]
  },
  {
   "cell_type": "code",
   "execution_count": 2,
   "metadata": {},
   "outputs": [
    {
     "name": "stdout",
     "output_type": "stream",
     "text": [
      "x = 7\n",
      "y = 3\n",
      "x + y = 10\n"
     ]
    }
   ],
   "source": [
    "print(F\"x = {x}\\ny = {y}\")\n",
    "\n",
    "#Addition\n",
    "z = x + y\n",
    "\n",
    "print(\"x + y =\", z)"
   ]
  },
  {
   "cell_type": "code",
   "execution_count": 4,
   "metadata": {},
   "outputs": [
    {
     "name": "stdout",
     "output_type": "stream",
     "text": [
      "x = 7\n",
      "y = 3\n",
      "x - y = 4\n"
     ]
    }
   ],
   "source": [
    "print(F\"x = {x}\\ny = {y}\")\n",
    "\n",
    "#Subtraction\n",
    "z = x - y\n",
    "\n",
    "print(\"x - y =\", z)"
   ]
  },
  {
   "cell_type": "code",
   "execution_count": 5,
   "metadata": {},
   "outputs": [
    {
     "name": "stdout",
     "output_type": "stream",
     "text": [
      "x = 7\n",
      "y = 3\n",
      "x * y = 21\n"
     ]
    }
   ],
   "source": [
    "print(F\"x = {x}\\ny = {y}\")\n",
    "\n",
    "#Multiplication\n",
    "z = x * y\n",
    "\n",
    "print(\"x * y =\", z)"
   ]
  },
  {
   "cell_type": "code",
   "execution_count": 7,
   "metadata": {},
   "outputs": [
    {
     "name": "stdout",
     "output_type": "stream",
     "text": [
      "x = 7\n",
      "y = 3\n",
      "x / y = 2.3333333333333335\n"
     ]
    }
   ],
   "source": [
    "print(F\"x = {x}\\ny = {y}\")\n",
    "\n",
    "#Division\n",
    "z = x / y\n",
    "\n",
    "print(\"x / y =\", z)"
   ]
  },
  {
   "cell_type": "code",
   "execution_count": 8,
   "metadata": {},
   "outputs": [
    {
     "name": "stdout",
     "output_type": "stream",
     "text": [
      "x = 7\n",
      "y = 3\n",
      "x // y = 2\n"
     ]
    }
   ],
   "source": [
    "print(F\"x = {x}\\ny = {y}\")\n",
    "\n",
    "#Integer Division\n",
    "z = x // y\n",
    "\n",
    "print(\"x // y =\", z)"
   ]
  },
  {
   "cell_type": "code",
   "execution_count": 11,
   "metadata": {},
   "outputs": [
    {
     "data": {
      "text/plain": [
       "3"
      ]
     },
     "execution_count": 11,
     "metadata": {},
     "output_type": "execute_result"
    }
   ],
   "source": [
    "15//4"
   ]
  },
  {
   "cell_type": "code",
   "execution_count": 12,
   "metadata": {},
   "outputs": [
    {
     "name": "stdout",
     "output_type": "stream",
     "text": [
      "greeting = Hello!\n",
      "greeting*10 = Hello!Hello!Hello!Hello!Hello!Hello!Hello!Hello!Hello!Hello!\n"
     ]
    }
   ],
   "source": [
    "# String Multiplication\n",
    "greeting = \"Hello!\"\n",
    "string2 = \"everyone !\"\n",
    "\n",
    "print(\"greeting =\", greeting)\n",
    "print(\"greeting*10 =\", greeting*10)"
   ]
  },
  {
   "cell_type": "code",
   "execution_count": 13,
   "metadata": {},
   "outputs": [
    {
     "name": "stdout",
     "output_type": "stream",
     "text": [
      "greeting + string2 = Hello!everyone !\n"
     ]
    }
   ],
   "source": [
    "print(\"greeting + string2 =\", greeting + string2)"
   ]
  },
  {
   "cell_type": "code",
   "execution_count": 14,
   "metadata": {},
   "outputs": [
    {
     "name": "stdout",
     "output_type": "stream",
     "text": [
      "x = 7\n",
      "y = 3\n",
      "x % y = 1\n"
     ]
    }
   ],
   "source": [
    "print(F\"x = {x}\\ny = {y}\")\n",
    "\n",
    "#Modulus\n",
    "z = x % y\n",
    "print(\"x % y =\", z)"
   ]
  },
  {
   "cell_type": "code",
   "execution_count": 15,
   "metadata": {},
   "outputs": [
    {
     "name": "stdout",
     "output_type": "stream",
     "text": [
      "x = 7\n",
      "y = 3\n",
      "x ** y = 343\n"
     ]
    }
   ],
   "source": [
    "print(F\"x = {x}\\ny = {y}\")\n",
    "\n",
    "# Exponent\n",
    "# x**y 7**3\n",
    "z = x ** y\n",
    "\n",
    "print(\"x ** y =\", z)"
   ]
  },
  {
   "attachments": {},
   "cell_type": "markdown",
   "metadata": {},
   "source": [
    "## Assignment Operators\n",
    "`=`, `+=`, `-=`, `*=`, `/=`, `//=`, `%=`, `**=`"
   ]
  },
  {
   "cell_type": "code",
   "execution_count": 17,
   "metadata": {},
   "outputs": [
    {
     "name": "stdout",
     "output_type": "stream",
     "text": [
      "x = 7\n",
      "y = 3\n",
      "x = 10\n"
     ]
    }
   ],
   "source": [
    "x = 7\n",
    "y = 3\n",
    "print(F\"x = {x}\\ny = {y}\")\n",
    "\n",
    "x = x + y\n",
    "\n",
    "print(\"x =\", x)"
   ]
  },
  {
   "cell_type": "code",
   "execution_count": 18,
   "metadata": {},
   "outputs": [
    {
     "name": "stdout",
     "output_type": "stream",
     "text": [
      "x = 7\n",
      "y = 3\n",
      "x = 10\n"
     ]
    }
   ],
   "source": [
    "x = 7\n",
    "y = 3\n",
    "print(F\"x = {x}\\ny = {y}\")\n",
    "\n",
    "x += y\n",
    "\n",
    "print(\"x =\", x)"
   ]
  },
  {
   "cell_type": "code",
   "execution_count": 19,
   "metadata": {},
   "outputs": [
    {
     "name": "stdout",
     "output_type": "stream",
     "text": [
      "x = 7\n",
      "y = 3\n",
      "x = 4\n"
     ]
    }
   ],
   "source": [
    "x = 7\n",
    "y = 3\n",
    "print(F\"x = {x}\\ny = {y}\")\n",
    "\n",
    "# x = x - y\n",
    "x -= y\n",
    "\n",
    "print(\"x =\", x)"
   ]
  },
  {
   "cell_type": "code",
   "execution_count": 20,
   "metadata": {},
   "outputs": [
    {
     "name": "stdout",
     "output_type": "stream",
     "text": [
      "x = 7\n",
      "y = 3\n",
      "x = 21\n"
     ]
    }
   ],
   "source": [
    "x = 7\n",
    "y = 3\n",
    "print(F\"x = {x}\\ny = {y}\")\n",
    "\n",
    "# x = x * y\n",
    "x *= y\n",
    "\n",
    "print(\"x =\", x)"
   ]
  },
  {
   "cell_type": "code",
   "execution_count": 21,
   "metadata": {},
   "outputs": [
    {
     "name": "stdout",
     "output_type": "stream",
     "text": [
      "x = 7\n",
      "y = 3\n",
      "x = 2.3333333333333335\n"
     ]
    }
   ],
   "source": [
    "x = 7\n",
    "y = 3\n",
    "print(F\"x = {x}\\ny = {y}\")\n",
    "\n",
    "# x = x / y\n",
    "x /= y\n",
    "\n",
    "print(\"x =\", x)"
   ]
  },
  {
   "cell_type": "code",
   "execution_count": 22,
   "metadata": {},
   "outputs": [
    {
     "name": "stdout",
     "output_type": "stream",
     "text": [
      "x = 7\n",
      "y = 3\n",
      "x = 343\n"
     ]
    }
   ],
   "source": [
    "x = 7\n",
    "y = 3\n",
    "print(F\"x = {x}\\ny = {y}\")\n",
    "\n",
    "# x = x ** y\n",
    "x **= y\n",
    "\n",
    "print(\"x =\", x)"
   ]
  },
  {
   "cell_type": "code",
   "execution_count": 23,
   "metadata": {},
   "outputs": [
    {
     "name": "stdout",
     "output_type": "stream",
     "text": [
      "x = 7\n",
      "y = 3\n",
      "x = 2\n"
     ]
    }
   ],
   "source": [
    "x = 7\n",
    "y = 3\n",
    "print(F\"x = {x}\\ny = {y}\")\n",
    "\n",
    "# x = x // y\n",
    "x //= y\n",
    "\n",
    "print(\"x =\", x)"
   ]
  },
  {
   "cell_type": "code",
   "execution_count": 24,
   "metadata": {},
   "outputs": [
    {
     "name": "stdout",
     "output_type": "stream",
     "text": [
      "x = 7\n",
      "y = 3\n",
      "x = 1\n"
     ]
    }
   ],
   "source": [
    "x = 7\n",
    "y = 3\n",
    "print(F\"x = {x}\\ny = {y}\")\n",
    "\n",
    "# x = x % y\n",
    "x %= y\n",
    "\n",
    "print(\"x =\", x)"
   ]
  },
  {
   "attachments": {},
   "cell_type": "markdown",
   "metadata": {},
   "source": [
    "## Comparison Operators"
   ]
  },
  {
   "cell_type": "code",
   "execution_count": 26,
   "metadata": {},
   "outputs": [],
   "source": [
    "a = 2\n",
    "b = 3\n",
    "c = 2"
   ]
  },
  {
   "cell_type": "code",
   "execution_count": 27,
   "metadata": {},
   "outputs": [
    {
     "name": "stdout",
     "output_type": "stream",
     "text": [
      "False\n"
     ]
    }
   ],
   "source": [
    "print( a==b )"
   ]
  },
  {
   "cell_type": "code",
   "execution_count": 28,
   "metadata": {},
   "outputs": [
    {
     "name": "stdout",
     "output_type": "stream",
     "text": [
      "False\n"
     ]
    }
   ],
   "source": [
    "x = a==b\n",
    "\n",
    "print(x)"
   ]
  },
  {
   "cell_type": "code",
   "execution_count": 29,
   "metadata": {},
   "outputs": [
    {
     "name": "stdout",
     "output_type": "stream",
     "text": [
      "<class 'bool'>\n"
     ]
    }
   ],
   "source": [
    "print(type(x))"
   ]
  },
  {
   "cell_type": "code",
   "execution_count": 30,
   "metadata": {},
   "outputs": [
    {
     "name": "stdout",
     "output_type": "stream",
     "text": [
      "0\n",
      "<class 'int'>\n"
     ]
    }
   ],
   "source": [
    "y = int(x)\n",
    "print(y)\n",
    "print(type(y))"
   ]
  },
  {
   "cell_type": "code",
   "execution_count": 31,
   "metadata": {},
   "outputs": [
    {
     "name": "stdout",
     "output_type": "stream",
     "text": [
      "True\n",
      "<class 'bool'>\n",
      "1\n",
      "<class 'int'>\n"
     ]
    }
   ],
   "source": [
    "x = True\n",
    "print(x)\n",
    "print(type(x))\n",
    "\n",
    "y = int(x)\n",
    "print(y)\n",
    "print(type(y))"
   ]
  },
  {
   "cell_type": "code",
   "execution_count": 32,
   "metadata": {},
   "outputs": [],
   "source": [
    "a = 2\n",
    "b = 3\n",
    "c = 2"
   ]
  },
  {
   "cell_type": "code",
   "execution_count": 33,
   "metadata": {},
   "outputs": [
    {
     "name": "stdout",
     "output_type": "stream",
     "text": [
      "False\n"
     ]
    }
   ],
   "source": [
    "print( a==b )"
   ]
  },
  {
   "cell_type": "code",
   "execution_count": 34,
   "metadata": {},
   "outputs": [
    {
     "name": "stdout",
     "output_type": "stream",
     "text": [
      "True\n"
     ]
    }
   ],
   "source": [
    "print( a==c )"
   ]
  },
  {
   "cell_type": "code",
   "execution_count": 35,
   "metadata": {},
   "outputs": [
    {
     "name": "stdout",
     "output_type": "stream",
     "text": [
      "True\n"
     ]
    }
   ],
   "source": [
    "print( a!=b )"
   ]
  },
  {
   "cell_type": "code",
   "execution_count": 36,
   "metadata": {},
   "outputs": [
    {
     "name": "stdout",
     "output_type": "stream",
     "text": [
      "False\n"
     ]
    }
   ],
   "source": [
    "print( a!=c )"
   ]
  },
  {
   "cell_type": "code",
   "execution_count": null,
   "metadata": {},
   "outputs": [],
   "source": [
    "print( a!=c )"
   ]
  },
  {
   "cell_type": "code",
   "execution_count": 37,
   "metadata": {},
   "outputs": [
    {
     "name": "stdout",
     "output_type": "stream",
     "text": [
      "a = 2\n",
      "b = 3\n",
      "c = 2\n"
     ]
    }
   ],
   "source": [
    "print(F\"a = {a}\\nb = {b}\\nc = {c}\")"
   ]
  },
  {
   "cell_type": "code",
   "execution_count": 38,
   "metadata": {},
   "outputs": [
    {
     "name": "stdout",
     "output_type": "stream",
     "text": [
      "a < b True\n"
     ]
    }
   ],
   "source": [
    "print(\"a < b\", a < b)"
   ]
  },
  {
   "cell_type": "code",
   "execution_count": 39,
   "metadata": {},
   "outputs": [
    {
     "name": "stdout",
     "output_type": "stream",
     "text": [
      "a < c False\n"
     ]
    }
   ],
   "source": [
    "print(\"a < c\", a < c)"
   ]
  },
  {
   "cell_type": "code",
   "execution_count": 40,
   "metadata": {},
   "outputs": [
    {
     "name": "stdout",
     "output_type": "stream",
     "text": [
      "a <= b True\n"
     ]
    }
   ],
   "source": [
    "print(\"a <= b\", a <= b)"
   ]
  },
  {
   "cell_type": "code",
   "execution_count": 41,
   "metadata": {},
   "outputs": [
    {
     "name": "stdout",
     "output_type": "stream",
     "text": [
      "a <= c True\n"
     ]
    }
   ],
   "source": [
    "print(\"a <= c\", a <= c)"
   ]
  },
  {
   "cell_type": "code",
   "execution_count": 42,
   "metadata": {},
   "outputs": [
    {
     "name": "stdout",
     "output_type": "stream",
     "text": [
      "a = 2\n",
      "b = 3\n",
      "c = 2\n"
     ]
    }
   ],
   "source": [
    "print(F\"a = {a}\\nb = {b}\\nc = {c}\")"
   ]
  },
  {
   "cell_type": "code",
   "execution_count": 43,
   "metadata": {},
   "outputs": [
    {
     "name": "stdout",
     "output_type": "stream",
     "text": [
      "a > b False\n"
     ]
    }
   ],
   "source": [
    "print(\"a > b\", a > b)"
   ]
  },
  {
   "cell_type": "code",
   "execution_count": 44,
   "metadata": {},
   "outputs": [
    {
     "name": "stdout",
     "output_type": "stream",
     "text": [
      "a > b True\n"
     ]
    }
   ],
   "source": [
    "print(\"a > b\", b > a)"
   ]
  },
  {
   "cell_type": "code",
   "execution_count": 45,
   "metadata": {},
   "outputs": [
    {
     "name": "stdout",
     "output_type": "stream",
     "text": [
      "a > c False\n"
     ]
    }
   ],
   "source": [
    "print(\"a > c\", a > c)"
   ]
  },
  {
   "cell_type": "code",
   "execution_count": 46,
   "metadata": {},
   "outputs": [
    {
     "name": "stdout",
     "output_type": "stream",
     "text": [
      "a >= b False\n"
     ]
    }
   ],
   "source": [
    "print(\"a >= b\", a >= b)"
   ]
  },
  {
   "cell_type": "code",
   "execution_count": 47,
   "metadata": {},
   "outputs": [
    {
     "name": "stdout",
     "output_type": "stream",
     "text": [
      "a >= c True\n"
     ]
    }
   ],
   "source": [
    "print(\"a >= c\", a >= c)"
   ]
  },
  {
   "attachments": {},
   "cell_type": "markdown",
   "metadata": {},
   "source": [
    "## Logical Operators"
   ]
  },
  {
   "cell_type": "code",
   "execution_count": 48,
   "metadata": {},
   "outputs": [
    {
     "name": "stdout",
     "output_type": "stream",
     "text": [
      "a = True\n",
      "b = False\n"
     ]
    }
   ],
   "source": [
    "a = True\n",
    "b = False\n",
    "print(F\"a = {a}\\nb = {b}\")"
   ]
  },
  {
   "cell_type": "code",
   "execution_count": 49,
   "metadata": {},
   "outputs": [
    {
     "name": "stdout",
     "output_type": "stream",
     "text": [
      "False\n",
      "True\n"
     ]
    }
   ],
   "source": [
    "print( not a)\n",
    "print( not b)"
   ]
  },
  {
   "cell_type": "code",
   "execution_count": 52,
   "metadata": {},
   "outputs": [],
   "source": [
    "a = True\n",
    "b = False\n",
    "c = True"
   ]
  },
  {
   "cell_type": "code",
   "execution_count": 50,
   "metadata": {},
   "outputs": [
    {
     "name": "stdout",
     "output_type": "stream",
     "text": [
      "False\n"
     ]
    }
   ],
   "source": [
    "print( a and b )"
   ]
  },
  {
   "cell_type": "code",
   "execution_count": 53,
   "metadata": {},
   "outputs": [
    {
     "name": "stdout",
     "output_type": "stream",
     "text": [
      "True\n"
     ]
    }
   ],
   "source": [
    "print( a and c )"
   ]
  },
  {
   "cell_type": "code",
   "execution_count": 57,
   "metadata": {},
   "outputs": [],
   "source": [
    "a = True\n",
    "b = False\n",
    "c = True\n",
    "d = False"
   ]
  },
  {
   "cell_type": "code",
   "execution_count": 55,
   "metadata": {},
   "outputs": [
    {
     "name": "stdout",
     "output_type": "stream",
     "text": [
      "True\n"
     ]
    }
   ],
   "source": [
    "print( a or b )"
   ]
  },
  {
   "cell_type": "code",
   "execution_count": 56,
   "metadata": {},
   "outputs": [
    {
     "name": "stdout",
     "output_type": "stream",
     "text": [
      "True\n"
     ]
    }
   ],
   "source": [
    "print( a or c )"
   ]
  },
  {
   "cell_type": "code",
   "execution_count": 58,
   "metadata": {},
   "outputs": [
    {
     "name": "stdout",
     "output_type": "stream",
     "text": [
      "False\n"
     ]
    }
   ],
   "source": [
    "print( b or d )"
   ]
  },
  {
   "cell_type": "code",
   "execution_count": 59,
   "metadata": {},
   "outputs": [
    {
     "name": "stdout",
     "output_type": "stream",
     "text": [
      "True\tand\tTrue  = True\n",
      "True\tand\tFalse = False\n",
      "False\tand\tTrue  =  False\n",
      "False\tand\tFalse = False\n"
     ]
    }
   ],
   "source": [
    "print(F\"True\\tand\\tTrue  = {True and True}\")\n",
    "print(F\"True\\tand\\tFalse = {True and False}\")\n",
    "print(F\"False\\tand\\tTrue  =  {False and True}\")\n",
    "print(F\"False\\tand\\tFalse = {False and False}\")"
   ]
  },
  {
   "cell_type": "code",
   "execution_count": 60,
   "metadata": {},
   "outputs": [
    {
     "name": "stdout",
     "output_type": "stream",
     "text": [
      "True\tor\tTrue  = True\n",
      "True\tor\tFalse = True\n",
      "False\tor\tTrue  = True\n",
      "False\tor\tFalse = False\n"
     ]
    }
   ],
   "source": [
    "print(F\"True\\tor\\tTrue  = {True or True}\")\n",
    "print(F\"True\\tor\\tFalse = {True or False}\")\n",
    "print(F\"False\\tor\\tTrue  = {False or True}\")\n",
    "print(F\"False\\tor\\tFalse = {False or False}\")"
   ]
  },
  {
   "cell_type": "code",
   "execution_count": 61,
   "metadata": {},
   "outputs": [
    {
     "name": "stdout",
     "output_type": "stream",
     "text": [
      "not True = False\n",
      "not False = True\n"
     ]
    }
   ],
   "source": [
    "print(F\"not True = {not True }\")\n",
    "print(F\"not False = {not False}\")"
   ]
  },
  {
   "cell_type": "code",
   "execution_count": 62,
   "metadata": {},
   "outputs": [],
   "source": [
    "a = 2\n",
    "b = 3\n",
    "c = 2"
   ]
  },
  {
   "cell_type": "code",
   "execution_count": 64,
   "metadata": {},
   "outputs": [
    {
     "name": "stdout",
     "output_type": "stream",
     "text": [
      "False\n"
     ]
    }
   ],
   "source": [
    "print ( (a < b) and (b == c) )"
   ]
  },
  {
   "cell_type": "code",
   "execution_count": 65,
   "metadata": {},
   "outputs": [
    {
     "name": "stdout",
     "output_type": "stream",
     "text": [
      "True\n"
     ]
    }
   ],
   "source": [
    "print ( (a < b) and (a == c) )"
   ]
  },
  {
   "cell_type": "code",
   "execution_count": 66,
   "metadata": {},
   "outputs": [
    {
     "name": "stdout",
     "output_type": "stream",
     "text": [
      "True\n"
     ]
    }
   ],
   "source": [
    "print ( (a < b) or (b == c) )"
   ]
  },
  {
   "cell_type": "code",
   "execution_count": 67,
   "metadata": {},
   "outputs": [
    {
     "name": "stdout",
     "output_type": "stream",
     "text": [
      "True\n"
     ]
    }
   ],
   "source": [
    "print ( (a < b) or (a == c) )"
   ]
  },
  {
   "cell_type": "code",
   "execution_count": 68,
   "metadata": {},
   "outputs": [
    {
     "name": "stdout",
     "output_type": "stream",
     "text": [
      "False\n"
     ]
    }
   ],
   "source": [
    "print ( (a > b) or (b == c) )"
   ]
  },
  {
   "attachments": {},
   "cell_type": "markdown",
   "metadata": {},
   "source": [
    "## Identity Operators"
   ]
  },
  {
   "cell_type": "code",
   "execution_count": 71,
   "metadata": {},
   "outputs": [
    {
     "name": "stdout",
     "output_type": "stream",
     "text": [
      "True\n"
     ]
    }
   ],
   "source": [
    "a = 2\n",
    "b = 2\n",
    "\n",
    "print( a is b )"
   ]
  },
  {
   "cell_type": "code",
   "execution_count": 72,
   "metadata": {},
   "outputs": [
    {
     "name": "stdout",
     "output_type": "stream",
     "text": [
      "3049888022800\n",
      "3049888022800\n"
     ]
    }
   ],
   "source": [
    "print( id(a) )\n",
    "print( id(b) )"
   ]
  },
  {
   "cell_type": "code",
   "execution_count": 73,
   "metadata": {},
   "outputs": [
    {
     "name": "stdout",
     "output_type": "stream",
     "text": [
      "False\n"
     ]
    }
   ],
   "source": [
    "b = 3\n",
    "\n",
    "print( a is b )"
   ]
  },
  {
   "cell_type": "code",
   "execution_count": 74,
   "metadata": {},
   "outputs": [
    {
     "name": "stdout",
     "output_type": "stream",
     "text": [
      "3049888022800\n",
      "3049888022832\n"
     ]
    }
   ],
   "source": [
    "print( id(a) )\n",
    "print( id(b) )"
   ]
  },
  {
   "cell_type": "code",
   "execution_count": 75,
   "metadata": {},
   "outputs": [
    {
     "name": "stdout",
     "output_type": "stream",
     "text": [
      "3049888022800\n",
      "3049888022800\n"
     ]
    }
   ],
   "source": [
    "c = a\n",
    "\n",
    "print( id(a) )\n",
    "print( id(c) )"
   ]
  },
  {
   "cell_type": "code",
   "execution_count": 76,
   "metadata": {},
   "outputs": [
    {
     "name": "stdout",
     "output_type": "stream",
     "text": [
      "True\n"
     ]
    }
   ],
   "source": [
    "print( a is c )"
   ]
  },
  {
   "cell_type": "code",
   "execution_count": 77,
   "metadata": {},
   "outputs": [
    {
     "name": "stdout",
     "output_type": "stream",
     "text": [
      "False\n"
     ]
    }
   ],
   "source": [
    "print( a is b )"
   ]
  },
  {
   "cell_type": "code",
   "execution_count": 78,
   "metadata": {},
   "outputs": [
    {
     "name": "stdout",
     "output_type": "stream",
     "text": [
      "True\n"
     ]
    }
   ],
   "source": [
    "print( a is not b )"
   ]
  },
  {
   "cell_type": "code",
   "execution_count": 79,
   "metadata": {},
   "outputs": [
    {
     "name": "stdout",
     "output_type": "stream",
     "text": [
      "False\n"
     ]
    }
   ],
   "source": [
    "print( a is not c )"
   ]
  },
  {
   "attachments": {},
   "cell_type": "markdown",
   "metadata": {},
   "source": [
    "## Membership Operators"
   ]
  },
  {
   "cell_type": "code",
   "execution_count": 81,
   "metadata": {},
   "outputs": [
    {
     "name": "stdout",
     "output_type": "stream",
     "text": [
      "John Smith\n"
     ]
    }
   ],
   "source": [
    "name = \"John Smith\"\n",
    "\n",
    "print(name)"
   ]
  },
  {
   "cell_type": "code",
   "execution_count": 82,
   "metadata": {},
   "outputs": [
    {
     "name": "stdout",
     "output_type": "stream",
     "text": [
      "True\n"
     ]
    }
   ],
   "source": [
    "print( \"S\" in name )"
   ]
  },
  {
   "cell_type": "code",
   "execution_count": 83,
   "metadata": {},
   "outputs": [
    {
     "name": "stdout",
     "output_type": "stream",
     "text": [
      "False\n"
     ]
    }
   ],
   "source": [
    "print( \"K\" in name )"
   ]
  },
  {
   "cell_type": "code",
   "execution_count": 84,
   "metadata": {},
   "outputs": [
    {
     "name": "stdout",
     "output_type": "stream",
     "text": [
      "True\n"
     ]
    }
   ],
   "source": [
    "print( \"Jo\" in name )"
   ]
  },
  {
   "cell_type": "code",
   "execution_count": 85,
   "metadata": {},
   "outputs": [
    {
     "name": "stdout",
     "output_type": "stream",
     "text": [
      "True\n"
     ]
    }
   ],
   "source": [
    "print( \"John\" in name )"
   ]
  },
  {
   "cell_type": "code",
   "execution_count": 86,
   "metadata": {},
   "outputs": [
    {
     "name": "stdout",
     "output_type": "stream",
     "text": [
      "False\n"
     ]
    }
   ],
   "source": [
    "print( \"john\" in name )"
   ]
  },
  {
   "cell_type": "code",
   "execution_count": 87,
   "metadata": {},
   "outputs": [
    {
     "name": "stdout",
     "output_type": "stream",
     "text": [
      "False\n"
     ]
    }
   ],
   "source": [
    "print( \"K\" in name )"
   ]
  },
  {
   "cell_type": "code",
   "execution_count": 88,
   "metadata": {},
   "outputs": [
    {
     "name": "stdout",
     "output_type": "stream",
     "text": [
      "True\n"
     ]
    }
   ],
   "source": [
    "print( \"K\" not in name )"
   ]
  },
  {
   "attachments": {},
   "cell_type": "markdown",
   "metadata": {},
   "source": [
    "## Bitwise Operators"
   ]
  },
  {
   "cell_type": "code",
   "execution_count": 89,
   "metadata": {},
   "outputs": [
    {
     "name": "stdout",
     "output_type": "stream",
     "text": [
      "0b1010\n"
     ]
    }
   ],
   "source": [
    "a = 10\n",
    "a_bin = bin(a)\n",
    "\n",
    "print(a_bin)"
   ]
  },
  {
   "cell_type": "code",
   "execution_count": 90,
   "metadata": {},
   "outputs": [
    {
     "name": "stdout",
     "output_type": "stream",
     "text": [
      "a  = 6 = 0b110\n",
      "------------------\n",
      "~a =-7 = -0b111\n"
     ]
    }
   ],
   "source": [
    "a = 6\n",
    "a_bin = bin(a)\n",
    "\n",
    "print(F\"a  = {a} = {a_bin}\")\n",
    "print(\"------------------\")\n",
    "print(F\"~a ={~a} = {bin(~a)}\")"
   ]
  },
  {
   "cell_type": "code",
   "execution_count": 98,
   "metadata": {},
   "outputs": [
    {
     "name": "stdout",
     "output_type": "stream",
     "text": [
      "a  =  10 =  0b1010\n",
      "------------------\n",
      "~a = -11 = -0b1011\n"
     ]
    }
   ],
   "source": [
    "a = 10\n",
    "\n",
    "a_bin = bin(a)\n",
    "\n",
    "print(\"a  = \", a, \"= \", a_bin)\n",
    "print(\"------------------\")\n",
    "print(\"~a =\", ~a, \"=\", bin(~a))"
   ]
  },
  {
   "cell_type": "code",
   "execution_count": 99,
   "metadata": {},
   "outputs": [
    {
     "name": "stdout",
     "output_type": "stream",
     "text": [
      "a     = 10 = 0b1010\n",
      "b     = 12 = 0b1100\n",
      "-------------------\n",
      "a & b =  8 = 0b1000\n"
     ]
    }
   ],
   "source": [
    "a = 10\n",
    "b = 12\n",
    "\n",
    "a_bin = bin(a)\n",
    "b_bin = bin(b)\n",
    "\n",
    "print(\"a     =\", a, \"=\", a_bin)\n",
    "print(\"b     =\", b, \"=\", b_bin)\n",
    "print(\"-------------------\")\n",
    "print(\"a & b = \", a & b, \"=\", bin(a & b))"
   ]
  },
  {
   "cell_type": "code",
   "execution_count": 100,
   "metadata": {},
   "outputs": [
    {
     "name": "stdout",
     "output_type": "stream",
     "text": [
      "a     = 10 = 0b1010\n",
      "b     = 12 = 0b1100\n",
      "-------------------\n",
      "a | b = 14 = 0b1110\n"
     ]
    }
   ],
   "source": [
    "a = 10\n",
    "b = 12\n",
    "\n",
    "a_bin = bin(a)\n",
    "b_bin = bin(b)\n",
    "\n",
    "print(\"a     =\", a, \"=\", a_bin)\n",
    "print(\"b     =\", b, \"=\", b_bin)\n",
    "print(\"-------------------\")\n",
    "print(\"a | b =\", a | b, \"=\", bin(a | b))"
   ]
  },
  {
   "cell_type": "code",
   "execution_count": 101,
   "metadata": {},
   "outputs": [
    {
     "name": "stdout",
     "output_type": "stream",
     "text": [
      "a     = 10 = 0b1010\n",
      "b     = 12 = 0b1100\n",
      "-------------------\n",
      "a ^ b = 6 = 0b110\n"
     ]
    }
   ],
   "source": [
    "a = 10\n",
    "b = 12\n",
    "\n",
    "a_bin = bin(a)\n",
    "b_bin = bin(b)\n",
    "\n",
    "print(\"a     =\", a, \"=\", a_bin)\n",
    "print(\"b     =\", b, \"=\", b_bin)\n",
    "print(\"-------------------\")\n",
    "print(\"a ^ b =\", a ^ b, \"=\", bin(a ^ b))"
   ]
  },
  {
   "cell_type": "code",
   "execution_count": 102,
   "metadata": {},
   "outputs": [
    {
     "name": "stdout",
     "output_type": "stream",
     "text": [
      "a       = 10 = 0b1010\n",
      "----------------------\n",
      "a >> 1  =  5 =  0b101\n"
     ]
    }
   ],
   "source": [
    "a = 10\n",
    "\n",
    "a_bin = bin(a)\n",
    "\n",
    "print(\"a       =\", a, \"=\", a_bin)\n",
    "print(\"----------------------\")\n",
    "print(\"a >> 1  = \", a >> 1, \"= \", bin(a >> 1))"
   ]
  },
  {
   "cell_type": "code",
   "execution_count": 103,
   "metadata": {},
   "outputs": [
    {
     "name": "stdout",
     "output_type": "stream",
     "text": [
      "a       = 10 = 0b1010\n",
      "----------------------\n",
      "a << 1  =  20 =  0b10100\n"
     ]
    }
   ],
   "source": [
    "a = 10\n",
    "\n",
    "a_bin = bin(a)\n",
    "\n",
    "print(\"a       =\", a, \"=\", a_bin)\n",
    "print(\"----------------------\")\n",
    "print(\"a << 1  = \", a << 1, \"= \", bin(a << 1))"
   ]
  },
  {
   "cell_type": "code",
   "execution_count": 104,
   "metadata": {},
   "outputs": [
    {
     "name": "stdout",
     "output_type": "stream",
     "text": [
      "a       = 10 = 0b1010\n",
      "----------------------\n",
      "a >> 2  =  2 =  0b10\n"
     ]
    }
   ],
   "source": [
    "a = 10\n",
    "\n",
    "a_bin = bin(a)\n",
    "\n",
    "print(\"a       =\", a, \"=\", a_bin)\n",
    "print(\"----------------------\")\n",
    "print(\"a >> 2  = \", a >> 2, \"= \", bin(a >> 2))"
   ]
  },
  {
   "attachments": {},
   "cell_type": "markdown",
   "metadata": {},
   "source": [
    "<hr/>\n",
    "© 2021-2023 Sumudu Tennakoon\n",
    "\n",
    "<a rel=\"license\" href=\"http://creativecommons.org/licenses/by-nc-sa/4.0/\"><img alt=\"Creative Commons License\" style=\"border-width:0\" src=\"https://i.creativecommons.org/l/by-nc-sa/4.0/88x31.png\" /></a><br />This work is licensed under a <a rel=\"license\" href=\"http://creativecommons.org/licenses/by-nc-sa/4.0/\">Creative Commons Attribution-NonCommercial-ShareAlike 4.0 International License</a>."
   ]
  }
 ],
 "metadata": {
  "kernelspec": {
   "display_name": "Python 3",
   "language": "python",
   "name": "python3"
  },
  "language_info": {
   "codemirror_mode": {
    "name": "ipython",
    "version": 3
   },
   "file_extension": ".py",
   "mimetype": "text/x-python",
   "name": "python",
   "nbconvert_exporter": "python",
   "pygments_lexer": "ipython3",
   "version": "3.10.10"
  },
  "orig_nbformat": 4
 },
 "nbformat": 4,
 "nbformat_minor": 2
}
