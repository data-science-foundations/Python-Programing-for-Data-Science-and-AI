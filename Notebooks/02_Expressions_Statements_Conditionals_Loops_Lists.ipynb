{
 "cells": [
  {
   "attachments": {},
   "cell_type": "markdown",
   "metadata": {},
   "source": [
    "### <span style=\"color:gray\"> ***Data Science Foundations***  </span>\n",
    "[www.datasciencefoundations.com](https://www.datasciencefoundations.com/)\n",
    "<hr/>\n",
    "\n",
    "## Python For Data Science and AI: \n",
    "# Python Programing Basics - Python Lists, Conditionals and Loops\n",
    "\n",
    "[Sumudu Tennakoon, PhD](https://www.linkedin.com/in/sumudutennakoon) \n",
    "<hr/>\n",
    "\n",
    "In this notebook we will explore some basic fetures on Python programming language for anyone who is ready to get start with coding in Python.\n",
    "\n",
    "Visit Data Science Foundations YouTube Channel for the Video Lesson: [youtube.com/@DataScienceFoundations](https://www.youtube.com/@DataScienceFoundations)\n",
    "\n",
    "### Notebook Content\n",
    "1. Statements and Expressions\n",
    "2. Conditionals {If..elif..else, match...case}\n",
    "3. Loops {for, while}\n",
    "4. Lists\n",
    "5. Number sequence Generators\n",
    "\n",
    "You can learn more about Python programing language from the official web page www.python.org\n",
    "\n",
    "<hr/>\n",
    "\n"
   ]
  },
  {
   "attachments": {},
   "cell_type": "markdown",
   "metadata": {},
   "source": [
    "# Statements and Expressions"
   ]
  },
  {
   "cell_type": "code",
   "execution_count": 1,
   "metadata": {},
   "outputs": [
    {
     "data": {
      "text/plain": [
       "6"
      ]
     },
     "execution_count": 1,
     "metadata": {},
     "output_type": "execute_result"
    }
   ],
   "source": [
    "# Arithmatic Expressions\n",
    "2 + 4"
   ]
  },
  {
   "cell_type": "code",
   "execution_count": 2,
   "metadata": {},
   "outputs": [
    {
     "name": "stdout",
     "output_type": "stream",
     "text": [
      "10\n"
     ]
    }
   ],
   "source": [
    "# Function call\n",
    "print(10)"
   ]
  },
  {
   "cell_type": "code",
   "execution_count": 3,
   "metadata": {},
   "outputs": [
    {
     "data": {
      "text/plain": [
       "7"
      ]
     },
     "execution_count": 3,
     "metadata": {},
     "output_type": "execute_result"
    }
   ],
   "source": [
    "#Assignment Statement\n",
    "a, b = 3, 4\n",
    "\n",
    "# Arithmatic Expression with Variables\n",
    "a + b"
   ]
  },
  {
   "cell_type": "code",
   "execution_count": 4,
   "metadata": {},
   "outputs": [
    {
     "name": "stdout",
     "output_type": "stream",
     "text": [
      "7\n"
     ]
    }
   ],
   "source": [
    "c = a + b\n",
    "\n",
    "print(c)"
   ]
  },
  {
   "attachments": {},
   "cell_type": "markdown",
   "metadata": {},
   "source": [
    "# Conditionals"
   ]
  },
  {
   "attachments": {},
   "cell_type": "markdown",
   "metadata": {},
   "source": [
    "### If...Else"
   ]
  },
  {
   "cell_type": "code",
   "execution_count": 7,
   "metadata": {},
   "outputs": [
    {
     "name": "stdout",
     "output_type": "stream",
     "text": [
      "a >= b\n"
     ]
    }
   ],
   "source": [
    "a = 6\n",
    "b = 3\n",
    "min_value = None\n",
    "\n",
    "# Pay attention to indentation (code blocks)\n",
    "if a < b:\n",
    "    print(\"a < b\")\n",
    "    min_value = a\n",
    "else:\n",
    "    print(\"a >= b\")\n",
    "    min_value = b"
   ]
  },
  {
   "cell_type": "code",
   "execution_count": 8,
   "metadata": {},
   "outputs": [
    {
     "name": "stdout",
     "output_type": "stream",
     "text": [
      "3\n"
     ]
    }
   ],
   "source": [
    "print(min_value)"
   ]
  },
  {
   "cell_type": "code",
   "execution_count": 10,
   "metadata": {},
   "outputs": [
    {
     "name": "stdout",
     "output_type": "stream",
     "text": [
      "continue\n"
     ]
    }
   ],
   "source": [
    "color = \"green\"\n",
    "\n",
    "if color==\"red\":\n",
    "    print(\"stop\")\n",
    "else:\n",
    "    print(\"continue\")"
   ]
  },
  {
   "attachments": {},
   "cell_type": "markdown",
   "metadata": {},
   "source": [
    "### If...Elif...Else"
   ]
  },
  {
   "cell_type": "code",
   "execution_count": 11,
   "metadata": {},
   "outputs": [
    {
     "name": "stdout",
     "output_type": "stream",
     "text": [
      "a < b\n"
     ]
    }
   ],
   "source": [
    "a = 2\n",
    "b = 3\n",
    "\n",
    "if (a>b):\n",
    "    print('a > b')\n",
    "elif (a==b):\n",
    "    print('a==b')\n",
    "else:\n",
    "    print('a < b')"
   ]
  },
  {
   "cell_type": "code",
   "execution_count": 14,
   "metadata": {},
   "outputs": [
    {
     "name": "stdout",
     "output_type": "stream",
     "text": [
      "continue\n"
     ]
    }
   ],
   "source": [
    "color = \"green\"\n",
    "\n",
    "if color==\"red\":\n",
    "    print(\"stop\")\n",
    "elif color==\"yellow\":\n",
    "    print(\"prepare to stop\")\n",
    "else:\n",
    "    print(\"continue\")"
   ]
  },
  {
   "cell_type": "code",
   "execution_count": 18,
   "metadata": {},
   "outputs": [
    {
     "name": "stdout",
     "output_type": "stream",
     "text": [
      "stop and go\n"
     ]
    }
   ],
   "source": [
    "color = \"blue\"\n",
    "\n",
    "if color==\"red\":\n",
    "    print(\"stop\")\n",
    "elif color==\"yellow\":\n",
    "    print(\"prepare to stop\")\n",
    "elif color==\"green\":\n",
    "    print(\"continue\")\n",
    "else:\n",
    "    print(\"stop and go\")"
   ]
  },
  {
   "attachments": {},
   "cell_type": "markdown",
   "metadata": {},
   "source": [
    "### Match-Case"
   ]
  },
  {
   "cell_type": "code",
   "execution_count": 21,
   "metadata": {},
   "outputs": [
    {
     "name": "stdout",
     "output_type": "stream",
     "text": [
      "stop and go\n"
     ]
    }
   ],
   "source": [
    "color = \"blue\"\n",
    "action = None\n",
    "\n",
    "match color:\n",
    "    case \"red\":\n",
    "        action = \"stop\"\n",
    "    case \"green\":\n",
    "        action = \"go\"\n",
    "    case \"yellow\":\n",
    "        action = \"prepare to stop\"\n",
    "    case default:\n",
    "        action = \"stop and go\"\n",
    "\n",
    "print(action)"
   ]
  },
  {
   "attachments": {},
   "cell_type": "markdown",
   "metadata": {},
   "source": [
    "### Nested If"
   ]
  },
  {
   "cell_type": "code",
   "execution_count": 24,
   "metadata": {},
   "outputs": [
    {
     "name": "stdout",
     "output_type": "stream",
     "text": [
      "non-negative\n",
      "positive\n"
     ]
    }
   ],
   "source": [
    "n = 8\n",
    "\n",
    "if n>=0:\n",
    "    print(\"non-negative\")\n",
    "    if n==0:\n",
    "        print(\"zero\")\n",
    "    else:\n",
    "        print(\"positive\")\n",
    "else:\n",
    "    print(\"negative\")\n",
    "        "
   ]
  },
  {
   "attachments": {},
   "cell_type": "markdown",
   "metadata": {},
   "source": [
    "### Shorthand If"
   ]
  },
  {
   "cell_type": "code",
   "execution_count": 26,
   "metadata": {},
   "outputs": [
    {
     "name": "stdout",
     "output_type": "stream",
     "text": [
      "a > b\n"
     ]
    }
   ],
   "source": [
    "a = 5\n",
    "b = 3\n",
    "\n",
    "if a > b: print(\"a > b\")"
   ]
  },
  {
   "attachments": {},
   "cell_type": "markdown",
   "metadata": {},
   "source": [
    "### Shorthand If...Else"
   ]
  },
  {
   "cell_type": "code",
   "execution_count": 30,
   "metadata": {},
   "outputs": [
    {
     "name": "stdout",
     "output_type": "stream",
     "text": [
      "a <= b\n"
     ]
    }
   ],
   "source": [
    "a = 2\n",
    "b = 2\n",
    "\n",
    "print(\"a > b\") if a > b else print(\"a <= b\")"
   ]
  },
  {
   "cell_type": "code",
   "execution_count": 32,
   "metadata": {},
   "outputs": [
    {
     "name": "stdout",
     "output_type": "stream",
     "text": [
      "4\n"
     ]
    }
   ],
   "source": [
    "a = 3\n",
    "b = 7\n",
    "\n",
    "c = a-b if a > b else b-a\n",
    "\n",
    "print(c)"
   ]
  },
  {
   "attachments": {},
   "cell_type": "markdown",
   "metadata": {},
   "source": [
    "### pass Key word"
   ]
  },
  {
   "cell_type": "code",
   "execution_count": 47,
   "metadata": {},
   "outputs": [
    {
     "name": "stdout",
     "output_type": "stream",
     "text": [
      "a < b\n"
     ]
    }
   ],
   "source": [
    "a = 1\n",
    "b = 2\n",
    "\n",
    "if (a>b):\n",
    "    pass\n",
    "else:\n",
    "    print('a < b')"
   ]
  },
  {
   "attachments": {},
   "cell_type": "markdown",
   "metadata": {},
   "source": [
    "# Lists in Python\n",
    "* [10, 20, 30, 40, ...]\n",
    "* [\"red\", \"blue\", yellow\", \"green\", ...]"
   ]
  },
  {
   "cell_type": "code",
   "execution_count": 34,
   "metadata": {},
   "outputs": [
    {
     "name": "stdout",
     "output_type": "stream",
     "text": [
      "h\n"
     ]
    }
   ],
   "source": [
    "name = \"John\"\n",
    "\n",
    "print(name[2])"
   ]
  },
  {
   "cell_type": "code",
   "execution_count": 43,
   "metadata": {},
   "outputs": [
    {
     "data": {
      "text/plain": [
       "16"
      ]
     },
     "execution_count": 43,
     "metadata": {},
     "output_type": "execute_result"
    }
   ],
   "source": [
    "my_list = [12, 15, 16, 18]\n",
    "\n",
    "my_list[2]"
   ]
  },
  {
   "cell_type": "code",
   "execution_count": 44,
   "metadata": {},
   "outputs": [
    {
     "data": {
      "text/plain": [
       "4"
      ]
     },
     "execution_count": 44,
     "metadata": {},
     "output_type": "execute_result"
    }
   ],
   "source": [
    "len(my_list)"
   ]
  },
  {
   "cell_type": "code",
   "execution_count": 45,
   "metadata": {},
   "outputs": [
    {
     "data": {
      "text/plain": [
       "4"
      ]
     },
     "execution_count": 45,
     "metadata": {},
     "output_type": "execute_result"
    }
   ],
   "source": [
    "len(name)"
   ]
  },
  {
   "attachments": {},
   "cell_type": "markdown",
   "metadata": {},
   "source": [
    "### Add Element"
   ]
  },
  {
   "cell_type": "code",
   "execution_count": 48,
   "metadata": {},
   "outputs": [
    {
     "name": "stdout",
     "output_type": "stream",
     "text": [
      "[12, 15, 16, 18, 11]\n"
     ]
    }
   ],
   "source": [
    "numbers = [12, 15, 16, 18]\n",
    "\n",
    "numbers.append(11)\n",
    "\n",
    "print(numbers)"
   ]
  },
  {
   "attachments": {},
   "cell_type": "markdown",
   "metadata": {},
   "source": [
    "### Concatanate Two Lists"
   ]
  },
  {
   "cell_type": "code",
   "execution_count": 49,
   "metadata": {},
   "outputs": [
    {
     "name": "stdout",
     "output_type": "stream",
     "text": [
      "[12, 17, 11, 16, 14, 15, 25, 18]\n"
     ]
    }
   ],
   "source": [
    "numbers = [12, 17, 11, 16, 14]\n",
    "\n",
    "new_numbers = [15, 25, 18]\n",
    "\n",
    "numbers = numbers + new_numbers\n",
    "\n",
    "print(numbers)"
   ]
  },
  {
   "cell_type": "code",
   "execution_count": 50,
   "metadata": {},
   "outputs": [
    {
     "name": "stdout",
     "output_type": "stream",
     "text": [
      "[12, 17, 11, 16, 14, 15, 25, 18]\n"
     ]
    }
   ],
   "source": [
    "numbers = [12, 17, 11, 16, 14]\n",
    "\n",
    "new_numbers = [15, 25, 18]\n",
    "\n",
    "numbers.extend(new_numbers)\n",
    "\n",
    "print(numbers)"
   ]
  },
  {
   "attachments": {},
   "cell_type": "markdown",
   "metadata": {},
   "source": [
    "# Loops"
   ]
  },
  {
   "attachments": {},
   "cell_type": "markdown",
   "metadata": {},
   "source": [
    "### While"
   ]
  },
  {
   "cell_type": "code",
   "execution_count": 53,
   "metadata": {},
   "outputs": [
    {
     "name": "stdout",
     "output_type": "stream",
     "text": [
      "0\n",
      "1\n",
      "2\n",
      "3\n",
      "4\n",
      "5\n",
      "6\n",
      "7\n",
      "8\n",
      "9\n"
     ]
    }
   ],
   "source": [
    "n = 0\n",
    "while n < 10:  \n",
    "    print(n)\n",
    "    n += 1"
   ]
  },
  {
   "cell_type": "code",
   "execution_count": 54,
   "metadata": {},
   "outputs": [
    {
     "name": "stdout",
     "output_type": "stream",
     "text": [
      "0\n",
      "1\n",
      "2\n",
      "3\n",
      "4\n",
      "5\n",
      "6\n",
      "7\n",
      "8\n",
      "9\n",
      "loop terminated\n"
     ]
    }
   ],
   "source": [
    "n = 0\n",
    "while n < 10:  \n",
    "    print(n)\n",
    "    n += 1\n",
    "else:\n",
    "    print(\"loop terminated\")"
   ]
  },
  {
   "cell_type": "code",
   "execution_count": 56,
   "metadata": {},
   "outputs": [
    {
     "name": "stdout",
     "output_type": "stream",
     "text": [
      "0\n",
      "1\n",
      "2\n",
      "3\n",
      "4\n",
      "5\n",
      "6\n",
      "7\n",
      "8\n",
      "9\n"
     ]
    }
   ],
   "source": [
    "n = 0\n",
    "\n",
    "while True:    \n",
    "    print(n)\n",
    "    n += 1\n",
    "\n",
    "    if n >= 10:\n",
    "        break\n"
   ]
  },
  {
   "attachments": {},
   "cell_type": "markdown",
   "metadata": {},
   "source": [
    "### For"
   ]
  },
  {
   "cell_type": "code",
   "execution_count": 59,
   "metadata": {},
   "outputs": [
    {
     "name": "stdout",
     "output_type": "stream",
     "text": [
      "1\n",
      "4\n",
      "9\n",
      "16\n",
      "25\n",
      "36\n",
      "49\n",
      "64\n",
      "81\n",
      "100\n",
      "loop terminated\n"
     ]
    }
   ],
   "source": [
    "for n in [1,2,3,4,5,6,7,8,9,10]:\n",
    "    print(n**2)\n",
    "else:\n",
    "    print(\"loop terminated\")"
   ]
  },
  {
   "attachments": {},
   "cell_type": "markdown",
   "metadata": {},
   "source": [
    "### Break"
   ]
  },
  {
   "cell_type": "code",
   "execution_count": 61,
   "metadata": {},
   "outputs": [
    {
     "name": "stdout",
     "output_type": "stream",
     "text": [
      "1\n",
      "2\n",
      "3\n",
      "4\n",
      "5\n",
      "6\n"
     ]
    }
   ],
   "source": [
    "for n in [1,2,3,4,5,6,7,8,9,10]:\n",
    "    if n == 7:\n",
    "        break\n",
    "    else:\n",
    "        print(n)"
   ]
  },
  {
   "attachments": {},
   "cell_type": "markdown",
   "metadata": {},
   "source": [
    "### Continue"
   ]
  },
  {
   "cell_type": "code",
   "execution_count": 62,
   "metadata": {},
   "outputs": [
    {
     "name": "stdout",
     "output_type": "stream",
     "text": [
      "1\n",
      "2\n",
      "3\n",
      "4\n",
      "6\n",
      "7\n",
      "8\n",
      "9\n",
      "10\n"
     ]
    }
   ],
   "source": [
    "for n in [1,2,3,4,5,6,7,8,9,10]:\n",
    "    if n == 5:\n",
    "        continue\n",
    "    else:\n",
    "        print(n)"
   ]
  },
  {
   "attachments": {},
   "cell_type": "markdown",
   "metadata": {},
   "source": [
    "# Example: Finding Average of Number List"
   ]
  },
  {
   "cell_type": "code",
   "execution_count": 64,
   "metadata": {},
   "outputs": [
    {
     "name": "stdout",
     "output_type": "stream",
     "text": [
      "n_count = 5\n",
      "n_total = 70\n",
      "n_average = 14.0\n"
     ]
    }
   ],
   "source": [
    "numbers = [12, 17, 11, 16, 14]\n",
    "\n",
    "n_count = len(numbers)\n",
    "n_total = 0\n",
    "\n",
    "i = 0\n",
    "while i < n_count:\n",
    "    n_total = n_total + numbers[i]\n",
    "    i = i + 1\n",
    "    \n",
    "n_average = n_total/n_count\n",
    "\n",
    "print(F\"n_count = {n_count}\")\n",
    "print(F\"n_total = {n_total}\")\n",
    "print(F\"n_average = {n_average}\")"
   ]
  },
  {
   "cell_type": "code",
   "execution_count": 65,
   "metadata": {},
   "outputs": [
    {
     "name": "stdout",
     "output_type": "stream",
     "text": [
      "n_count = 5\n",
      "n_total = 70\n",
      "n_average = 14.0\n"
     ]
    }
   ],
   "source": [
    "numbers = [12, 17, 11, 16, 14]\n",
    "\n",
    "n_count = len(numbers)\n",
    "n_total = 0\n",
    "\n",
    "for n in numbers:\n",
    "    n_total += n # n_total = n_total+n  \n",
    "\n",
    "n_average = n_total/n_count\n",
    "\n",
    "print(F\"n_count = {n_count}\")\n",
    "print(F\"n_total = {n_total}\")\n",
    "print(F\"n_average = {n_average}\")"
   ]
  },
  {
   "cell_type": "code",
   "execution_count": 66,
   "metadata": {},
   "outputs": [
    {
     "name": "stdout",
     "output_type": "stream",
     "text": [
      "n_count = 5\n",
      "n_total = 70\n",
      "n_average = 14.0\n"
     ]
    }
   ],
   "source": [
    "numbers = [12, 17, 11, 16, 14]\n",
    "\n",
    "n_count = len(numbers)\n",
    "n_total = sum(numbers)\n",
    "n_average = n_total/n_count\n",
    "\n",
    "print(F\"n_count = {n_count}\")\n",
    "print(F\"n_total = {n_total}\")\n",
    "print(F\"n_average = {n_average}\")"
   ]
  },
  {
   "attachments": {},
   "cell_type": "markdown",
   "metadata": {},
   "source": [
    "## Single Line For Loop"
   ]
  },
  {
   "cell_type": "code",
   "execution_count": 67,
   "metadata": {},
   "outputs": [
    {
     "name": "stdout",
     "output_type": "stream",
     "text": [
      "[1, 4, 9, 16, 25, 36, 49, 64, 81, 100]\n"
     ]
    }
   ],
   "source": [
    "numbers = [1,2,3,4,5,6,7,8,9,10]\n",
    "\n",
    "numbers_square = [n**2 for n in numbers]\n",
    "\n",
    "print(numbers_square)"
   ]
  },
  {
   "attachments": {},
   "cell_type": "markdown",
   "metadata": {},
   "source": [
    "## Single Line For Loop with Condition"
   ]
  },
  {
   "cell_type": "code",
   "execution_count": 68,
   "metadata": {},
   "outputs": [
    {
     "name": "stdout",
     "output_type": "stream",
     "text": [
      "[4, 16, 36, 64, 100]\n"
     ]
    }
   ],
   "source": [
    "numbers = [1,2,3,4,5,6,7,8,9,10]\n",
    "\n",
    "numbers_square = [n**2 for n in numbers if n%2==0]\n",
    "\n",
    "print(numbers_square)"
   ]
  },
  {
   "cell_type": "code",
   "execution_count": 69,
   "metadata": {},
   "outputs": [
    {
     "name": "stdout",
     "output_type": "stream",
     "text": [
      "#\n",
      "##\n",
      "###\n",
      "####\n",
      "#####\n",
      "######\n",
      "#######\n",
      "########\n",
      "#########\n",
      "##########\n"
     ]
    }
   ],
   "source": [
    "numbers = [1,2,3,4,5,6,7,8,9,10]\n",
    "\n",
    "for n in numbers:\n",
    "    print(\"#\"*n)"
   ]
  },
  {
   "cell_type": "code",
   "execution_count": 70,
   "metadata": {},
   "outputs": [
    {
     "name": "stdout",
     "output_type": "stream",
     "text": [
      "#\n",
      "####\n",
      "#########\n",
      "################\n",
      "#########################\n",
      "####################################\n",
      "#################################################\n",
      "################################################################\n",
      "#################################################################################\n",
      "####################################################################################################\n"
     ]
    }
   ],
   "source": [
    "numbers = [1,2,3,4,5,6,7,8,9,10]\n",
    "\n",
    "for n in numbers:\n",
    "    print(\"#\"*(n**2))"
   ]
  },
  {
   "attachments": {},
   "cell_type": "markdown",
   "metadata": {},
   "source": [
    "# Number Sequence Generators"
   ]
  },
  {
   "attachments": {},
   "cell_type": "markdown",
   "metadata": {},
   "source": [
    "#### Builtin Function `range(start,end,step)`"
   ]
  },
  {
   "cell_type": "code",
   "execution_count": null,
   "metadata": {},
   "outputs": [],
   "source": [
    "[2,4,6,8]"
   ]
  },
  {
   "cell_type": "code",
   "execution_count": 74,
   "metadata": {},
   "outputs": [
    {
     "name": "stdout",
     "output_type": "stream",
     "text": [
      "range(0, 10, 2)\n"
     ]
    }
   ],
   "source": [
    "numbers = range(0,10,2)\n",
    "print(numbers)"
   ]
  },
  {
   "cell_type": "code",
   "execution_count": 75,
   "metadata": {},
   "outputs": [
    {
     "data": {
      "text/plain": [
       "[0, 2, 4, 6, 8]"
      ]
     },
     "execution_count": 75,
     "metadata": {},
     "output_type": "execute_result"
    }
   ],
   "source": [
    "list(numbers)"
   ]
  },
  {
   "cell_type": "code",
   "execution_count": 76,
   "metadata": {},
   "outputs": [
    {
     "name": "stdout",
     "output_type": "stream",
     "text": [
      "<class 'range'>\n"
     ]
    }
   ],
   "source": [
    "print(type(numbers))"
   ]
  },
  {
   "attachments": {},
   "cell_type": "markdown",
   "metadata": {},
   "source": [
    "### Loops with Range"
   ]
  },
  {
   "cell_type": "code",
   "execution_count": 80,
   "metadata": {},
   "outputs": [
    {
     "name": "stdout",
     "output_type": "stream",
     "text": [
      "0\n",
      "2\n",
      "4\n",
      "6\n",
      "8\n",
      "10\n",
      "12\n",
      "14\n",
      "16\n",
      "18\n",
      "20\n",
      "22\n",
      "24\n",
      "26\n",
      "28\n",
      "30\n",
      "32\n",
      "34\n",
      "36\n",
      "38\n",
      "40\n",
      "42\n",
      "44\n",
      "46\n",
      "48\n",
      "50\n",
      "52\n",
      "54\n",
      "56\n",
      "58\n",
      "60\n",
      "62\n",
      "64\n",
      "66\n",
      "68\n",
      "70\n",
      "72\n",
      "74\n",
      "76\n",
      "78\n",
      "80\n",
      "82\n",
      "84\n",
      "86\n",
      "88\n",
      "90\n",
      "92\n",
      "94\n",
      "96\n",
      "98\n",
      "100\n"
     ]
    }
   ],
   "source": [
    "for n in range(0,101,2):\n",
    "    print(n)"
   ]
  },
  {
   "cell_type": "code",
   "execution_count": 82,
   "metadata": {},
   "outputs": [
    {
     "name": "stdout",
     "output_type": "stream",
     "text": [
      "[1, 4, 9, 16, 25, 36, 49, 64, 81, 100, 121, 144, 169, 196, 225, 256, 289, 324, 361, 400, 441, 484, 529, 576, 625, 676, 729, 784, 841, 900, 961, 1024, 1089, 1156, 1225, 1296, 1369, 1444, 1521, 1600, 1681, 1764, 1849, 1936, 2025, 2116, 2209, 2304, 2401, 2500, 2601, 2704, 2809, 2916, 3025, 3136, 3249, 3364, 3481, 3600, 3721, 3844, 3969, 4096, 4225, 4356, 4489, 4624, 4761, 4900, 5041, 5184, 5329, 5476, 5625, 5776, 5929, 6084, 6241, 6400, 6561, 6724, 6889, 7056, 7225, 7396, 7569, 7744, 7921, 8100, 8281, 8464, 8649, 8836, 9025, 9216, 9409, 9604, 9801, 10000]\n"
     ]
    }
   ],
   "source": [
    "numbers_square = [n**2 for n in range(1,101,1)]\n",
    "\n",
    "print(numbers_square)"
   ]
  },
  {
   "attachments": {},
   "cell_type": "markdown",
   "metadata": {},
   "source": [
    "<hr/>\n",
    "© 2021-2023 Sumudu Tennakoon\n",
    "\n",
    "<a rel=\"license\" href=\"http://creativecommons.org/licenses/by-nc-sa/4.0/\"><img alt=\"Creative Commons License\" style=\"border-width:0\" src=\"https://i.creativecommons.org/l/by-nc-sa/4.0/88x31.png\" /></a><br />This work is licensed under a <a rel=\"license\" href=\"http://creativecommons.org/licenses/by-nc-sa/4.0/\">Creative Commons Attribution-NonCommercial-ShareAlike 4.0 International License</a>."
   ]
  }
 ],
 "metadata": {
  "kernelspec": {
   "display_name": ".venv",
   "language": "python",
   "name": "python3"
  },
  "language_info": {
   "codemirror_mode": {
    "name": "ipython",
    "version": 3
   },
   "file_extension": ".py",
   "mimetype": "text/x-python",
   "name": "python",
   "nbconvert_exporter": "python",
   "pygments_lexer": "ipython3",
   "version": "3.10.10"
  },
  "orig_nbformat": 4
 },
 "nbformat": 4,
 "nbformat_minor": 2
}
