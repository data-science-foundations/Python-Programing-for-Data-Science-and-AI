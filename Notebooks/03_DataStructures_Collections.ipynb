{
 "cells": [
  {
   "attachments": {},
   "cell_type": "markdown",
   "metadata": {},
   "source": [
    "### <span style=\"color:gray\"> ***Data Science Foundations***  </span>\n",
    "[www.datasciencefoundations.com](https://www.datasciencefoundations.com/)\n",
    "<hr/>\n",
    "\n",
    "## Python For Data Science and AI: \n",
    "# Python Programing Basics - Data Structures/Collections\n",
    "\n",
    "[Sumudu Tennakoon, PhD](https://www.linkedin.com/in/sumudutennakoon) \n",
    "<hr/>\n",
    "\n",
    "In this notebook we will explore some basic fetures on Python programming language for anyone who is ready to get start with coding in Python.\n",
    "\n",
    "Visit Data Science Foundations YouTube Channel for the Video Lesson: [youtube.com/@DataScienceFoundations](https://www.youtube.com/@DataScienceFoundations)\n",
    "\n",
    "### Notebook Content\n",
    "1. Lists\n",
    "2. Tuples\n",
    "3. Sets\n",
    "4. Dictionaries\n",
    "5. Data Struture Conversions\n",
    "6. Collections Module\n",
    "\n",
    "You can learn more about Python programing language from the official web page www.python.org\n",
    "\n",
    "<hr/>"
   ]
  },
  {
   "cell_type": "code",
   "execution_count": 1,
   "metadata": {},
   "outputs": [
    {
     "name": "stdout",
     "output_type": "stream",
     "text": [
      "8\n"
     ]
    }
   ],
   "source": [
    "# Task: Add two numbers\n",
    "\n",
    "a = 3\n",
    "b = 5\n",
    "\n",
    "ans = a + b\n",
    "\n",
    "print(ans)"
   ]
  },
  {
   "cell_type": "code",
   "execution_count": 3,
   "metadata": {},
   "outputs": [
    {
     "name": "stdout",
     "output_type": "stream",
     "text": [
      "8\n",
      "6\n",
      "27\n"
     ]
    }
   ],
   "source": [
    "# Define Function\n",
    "def add(a, b):\n",
    "    ans = a+b\n",
    "    return ans\n",
    "\n",
    "# Function Call Statements\n",
    "print( add(3, 5) )\n",
    "print( add(2, 4) )\n",
    "print( add(12, 15) )"
   ]
  },
  {
   "cell_type": "code",
   "execution_count": 4,
   "metadata": {},
   "outputs": [
    {
     "name": "stdout",
     "output_type": "stream",
     "text": [
      "5.5\n",
      "HelloWorld!\n"
     ]
    }
   ],
   "source": [
    "# Different Data Types\n",
    "\n",
    "print( add(3.5, 2) )\n",
    "print( add(\"Hello\", \"World!\") )"
   ]
  },
  {
   "attachments": {},
   "cell_type": "markdown",
   "metadata": {},
   "source": [
    "# Lists"
   ]
  },
  {
   "cell_type": "code",
   "execution_count": 5,
   "metadata": {},
   "outputs": [
    {
     "name": "stdout",
     "output_type": "stream",
     "text": [
      "[12, 17, 11, 16, 14, 12]\n"
     ]
    }
   ],
   "source": [
    "numbers_list = [12, 17, 11, 16, 14, 12]\n",
    "\n",
    "print(numbers_list)"
   ]
  },
  {
   "attachments": {},
   "cell_type": "markdown",
   "metadata": {},
   "source": [
    "## Get Length"
   ]
  },
  {
   "cell_type": "code",
   "execution_count": 6,
   "metadata": {},
   "outputs": [
    {
     "name": "stdout",
     "output_type": "stream",
     "text": [
      "6\n"
     ]
    }
   ],
   "source": [
    "numbers_list = [12, 17, 11, 16, 14, 12]\n",
    "\n",
    "print( len(numbers_list) )"
   ]
  },
  {
   "attachments": {},
   "cell_type": "markdown",
   "metadata": {},
   "source": [
    "## Get Sum"
   ]
  },
  {
   "cell_type": "code",
   "execution_count": 7,
   "metadata": {},
   "outputs": [
    {
     "name": "stdout",
     "output_type": "stream",
     "text": [
      "82\n"
     ]
    }
   ],
   "source": [
    "numbers_list = [12, 17, 11, 16, 14, 12]\n",
    "\n",
    "print( sum(numbers_list) )"
   ]
  },
  {
   "attachments": {},
   "cell_type": "markdown",
   "metadata": {},
   "source": [
    "## Making a Copy"
   ]
  },
  {
   "cell_type": "code",
   "execution_count": 8,
   "metadata": {},
   "outputs": [],
   "source": [
    "numbers_list = [12, 17, 11, 16, 14, 12]\n",
    "\n",
    "numbers_list_new = numbers_list"
   ]
  },
  {
   "cell_type": "code",
   "execution_count": 9,
   "metadata": {},
   "outputs": [
    {
     "name": "stdout",
     "output_type": "stream",
     "text": [
      "id(numbers_list) = 1687023234176\n",
      "id(numbers_list_new) = 1687023234176\n"
     ]
    }
   ],
   "source": [
    "print(F\"id(numbers_list) = {id(numbers_list)}\")\n",
    "print(F\"id(numbers_list_new) = {id(numbers_list_new)}\")"
   ]
  },
  {
   "cell_type": "code",
   "execution_count": 11,
   "metadata": {},
   "outputs": [
    {
     "name": "stdout",
     "output_type": "stream",
     "text": [
      "id(numbers_list) = 1687023234176\n",
      "id(numbers_list_new) = 1687023234176\n",
      "id(numbers_list_copy) = 1687023106496\n"
     ]
    }
   ],
   "source": [
    "numbers_list_copy = numbers_list.copy()\n",
    "\n",
    "print(F\"id(numbers_list) = {id(numbers_list)}\")\n",
    "print(F\"id(numbers_list_new) = {id(numbers_list_new)}\")\n",
    "print(F\"id(numbers_list_copy) = {id(numbers_list_copy)}\")"
   ]
  },
  {
   "attachments": {},
   "cell_type": "markdown",
   "metadata": {},
   "source": [
    "## Get Index"
   ]
  },
  {
   "cell_type": "code",
   "execution_count": 14,
   "metadata": {},
   "outputs": [
    {
     "data": {
      "text/plain": [
       "14"
      ]
     },
     "execution_count": 14,
     "metadata": {},
     "output_type": "execute_result"
    }
   ],
   "source": [
    "numbers_list = [12, 17, 11, 16, 14, 12]\n",
    "\n",
    "numbers_list[-2]"
   ]
  },
  {
   "cell_type": "code",
   "execution_count": 15,
   "metadata": {},
   "outputs": [
    {
     "name": "stdout",
     "output_type": "stream",
     "text": [
      "[12, 17, 11, 16, 14, 12]\n",
      "index(17) = 1\n"
     ]
    }
   ],
   "source": [
    "numbers_list = [12, 17, 11, 16, 14, 12]\n",
    "\n",
    "n_index = numbers_list.index(17)\n",
    "\n",
    "print(numbers_list)\n",
    "print(F\"index(17) = {n_index}\")"
   ]
  },
  {
   "cell_type": "code",
   "execution_count": 16,
   "metadata": {},
   "outputs": [
    {
     "ename": "ValueError",
     "evalue": "15 is not in list",
     "output_type": "error",
     "traceback": [
      "\u001b[1;31m---------------------------------------------------------------------------\u001b[0m",
      "\u001b[1;31mValueError\u001b[0m                                Traceback (most recent call last)",
      "Cell \u001b[1;32mIn[16], line 1\u001b[0m\n\u001b[1;32m----> 1\u001b[0m n_index \u001b[39m=\u001b[39m numbers_list\u001b[39m.\u001b[39;49mindex(\u001b[39m15\u001b[39;49m)\n\u001b[0;32m      3\u001b[0m \u001b[39mprint\u001b[39m(numbers_list)\n\u001b[0;32m      4\u001b[0m \u001b[39mprint\u001b[39m(\u001b[39mF\u001b[39m\u001b[39m\"\u001b[39m\u001b[39mindex(15) = \u001b[39m\u001b[39m{\u001b[39;00mn_index\u001b[39m}\u001b[39;00m\u001b[39m\"\u001b[39m)\n",
      "\u001b[1;31mValueError\u001b[0m: 15 is not in list"
     ]
    }
   ],
   "source": [
    "n_index = numbers_list.index(15)\n",
    "\n",
    "print(numbers_list)\n",
    "print(F\"index(15) = {n_index}\")"
   ]
  },
  {
   "attachments": {},
   "cell_type": "markdown",
   "metadata": {},
   "source": [
    "## Count Values"
   ]
  },
  {
   "cell_type": "code",
   "execution_count": 17,
   "metadata": {},
   "outputs": [
    {
     "name": "stdout",
     "output_type": "stream",
     "text": [
      "[12, 17, 11, 16, 14, 12]\n",
      "count(12) = 2\n"
     ]
    }
   ],
   "source": [
    "numbers_list = [12, 17, 11, 16, 14, 12]\n",
    "\n",
    "n_count = numbers_list.count(12)\n",
    "\n",
    "print(numbers_list)\n",
    "print(F\"count(12) = {n_count}\")"
   ]
  },
  {
   "attachments": {},
   "cell_type": "markdown",
   "metadata": {},
   "source": [
    "## Use of Index"
   ]
  },
  {
   "cell_type": "code",
   "execution_count": 18,
   "metadata": {},
   "outputs": [
    {
     "name": "stdout",
     "output_type": "stream",
     "text": [
      "11\n"
     ]
    }
   ],
   "source": [
    "numbers_list = [12, 17, 11, 16, 14, 12]\n",
    "\n",
    "print( numbers_list[2] )"
   ]
  },
  {
   "cell_type": "code",
   "execution_count": 20,
   "metadata": {},
   "outputs": [
    {
     "name": "stdout",
     "output_type": "stream",
     "text": [
      "[17, 11, 16]\n"
     ]
    }
   ],
   "source": [
    "numbers_list = [12, 17, 11, 16, 14, 12]\n",
    "\n",
    "print( numbers_list[1:4] )"
   ]
  },
  {
   "cell_type": "code",
   "execution_count": 22,
   "metadata": {},
   "outputs": [
    {
     "name": "stdout",
     "output_type": "stream",
     "text": [
      "[12, 17, 11]\n"
     ]
    }
   ],
   "source": [
    "numbers_list = [12, 17, 11, 16, 14, 12]\n",
    "\n",
    "print( numbers_list[:3] )"
   ]
  },
  {
   "cell_type": "code",
   "execution_count": 24,
   "metadata": {},
   "outputs": [
    {
     "name": "stdout",
     "output_type": "stream",
     "text": [
      "[16, 14, 12]\n"
     ]
    }
   ],
   "source": [
    "numbers_list = [12, 17, 11, 16, 14, 12]\n",
    "\n",
    "print( numbers_list[-3:] )"
   ]
  },
  {
   "attachments": {},
   "cell_type": "markdown",
   "metadata": {},
   "source": [
    "## Search"
   ]
  },
  {
   "cell_type": "code",
   "execution_count": 25,
   "metadata": {},
   "outputs": [
    {
     "data": {
      "text/plain": [
       "0"
      ]
     },
     "execution_count": 25,
     "metadata": {},
     "output_type": "execute_result"
    }
   ],
   "source": [
    "numbers_list.index(12)"
   ]
  },
  {
   "cell_type": "code",
   "execution_count": 26,
   "metadata": {},
   "outputs": [
    {
     "name": "stdout",
     "output_type": "stream",
     "text": [
      "True\n",
      "False\n"
     ]
    }
   ],
   "source": [
    "numbers_list = [12, 17, 11, 16, 14, 12]\n",
    "\n",
    "print( 16 in numbers_list )\n",
    "print( 10 in numbers_list )"
   ]
  },
  {
   "cell_type": "code",
   "execution_count": 27,
   "metadata": {},
   "outputs": [
    {
     "name": "stdout",
     "output_type": "stream",
     "text": [
      "False\n",
      "True\n"
     ]
    }
   ],
   "source": [
    "numbers_list = [12, 17, 11, 16, 14, 12]\n",
    "\n",
    "print( 16 not in numbers_list )\n",
    "print( 10 not in numbers_list )"
   ]
  },
  {
   "attachments": {},
   "cell_type": "markdown",
   "metadata": {},
   "source": [
    "## Repeating List Items"
   ]
  },
  {
   "cell_type": "code",
   "execution_count": 29,
   "metadata": {},
   "outputs": [
    {
     "name": "stdout",
     "output_type": "stream",
     "text": [
      "[1, 2, 3, 1, 2, 3, 1, 2, 3, 1, 2, 3, 1, 2, 3]\n"
     ]
    }
   ],
   "source": [
    "numbers_list = [1, 2, 3]\n",
    "\n",
    "new_list = numbers_list*5\n",
    "\n",
    "print( new_list )"
   ]
  },
  {
   "attachments": {},
   "cell_type": "markdown",
   "metadata": {},
   "source": [
    "## List Sorting"
   ]
  },
  {
   "cell_type": "code",
   "execution_count": 30,
   "metadata": {},
   "outputs": [
    {
     "name": "stdout",
     "output_type": "stream",
     "text": [
      "[11, 12, 12, 14, 16, 17]\n"
     ]
    }
   ],
   "source": [
    "numbers_list = [12, 17, 11, 16, 14, 12]\n",
    "\n",
    "numbers_list.sort()\n",
    "\n",
    "print(numbers_list)"
   ]
  },
  {
   "cell_type": "code",
   "execution_count": 33,
   "metadata": {},
   "outputs": [
    {
     "name": "stdout",
     "output_type": "stream",
     "text": [
      "[17, 16, 14, 12, 12, 11]\n"
     ]
    }
   ],
   "source": [
    "numbers_list = [12, 17, 11, 16, 14, 12]\n",
    "\n",
    "numbers_list.sort(reverse=True)\n",
    "\n",
    "print(numbers_list)"
   ]
  },
  {
   "cell_type": "code",
   "execution_count": 35,
   "metadata": {},
   "outputs": [
    {
     "name": "stdout",
     "output_type": "stream",
     "text": [
      "['SAM', 'PETER', 'PAUL', 'NANCY', 'JANE', 'BETH', 'ADAM']\n"
     ]
    }
   ],
   "source": [
    "names_list = [\"SAM\", \"JANE\", \"PAUL\", \"ADAM\", \"PETER\", \"NANCY\", \"BETH\"]\n",
    "\n",
    "names_list.sort(reverse=True)\n",
    "\n",
    "print(names_list)"
   ]
  },
  {
   "attachments": {},
   "cell_type": "markdown",
   "metadata": {},
   "source": [
    "## Add Element"
   ]
  },
  {
   "cell_type": "code",
   "execution_count": 36,
   "metadata": {},
   "outputs": [
    {
     "name": "stdout",
     "output_type": "stream",
     "text": [
      "[12, 17, 11, 16, 14, 12, 15]\n"
     ]
    }
   ],
   "source": [
    "numbers_list = [12, 17, 11, 16, 14, 12]\n",
    "\n",
    "numbers_list.append(15)\n",
    "\n",
    "print(numbers_list)"
   ]
  },
  {
   "cell_type": "code",
   "execution_count": 37,
   "metadata": {},
   "outputs": [
    {
     "name": "stdout",
     "output_type": "stream",
     "text": [
      "[12, 17, 15, 11, 16, 14, 12]\n"
     ]
    }
   ],
   "source": [
    "numbers_list = [12, 17, 11, 16, 14, 12]\n",
    "\n",
    "numbers_list.insert(2, 15)\n",
    "\n",
    "print(numbers_list)"
   ]
  },
  {
   "attachments": {},
   "cell_type": "markdown",
   "metadata": {},
   "source": [
    "## Remove Element"
   ]
  },
  {
   "cell_type": "code",
   "execution_count": 38,
   "metadata": {},
   "outputs": [
    {
     "name": "stdout",
     "output_type": "stream",
     "text": [
      "[12, 17, 16, 14, 12]\n"
     ]
    }
   ],
   "source": [
    "numbers_list = [12, 17, 11, 16, 14, 12]\n",
    "\n",
    "numbers_list.remove(11)\n",
    "\n",
    "print(numbers_list)"
   ]
  },
  {
   "cell_type": "code",
   "execution_count": 39,
   "metadata": {},
   "outputs": [
    {
     "name": "stdout",
     "output_type": "stream",
     "text": [
      "[17, 11, 16, 14, 12]\n"
     ]
    }
   ],
   "source": [
    "numbers_list = [12, 17, 11, 16, 14, 12]\n",
    "\n",
    "numbers_list.remove(12)\n",
    "\n",
    "print(numbers_list)"
   ]
  },
  {
   "cell_type": "code",
   "execution_count": 40,
   "metadata": {},
   "outputs": [
    {
     "ename": "ValueError",
     "evalue": "list.remove(x): x not in list",
     "output_type": "error",
     "traceback": [
      "\u001b[1;31m---------------------------------------------------------------------------\u001b[0m",
      "\u001b[1;31mValueError\u001b[0m                                Traceback (most recent call last)",
      "Cell \u001b[1;32mIn[40], line 3\u001b[0m\n\u001b[0;32m      1\u001b[0m numbers_list \u001b[39m=\u001b[39m [\u001b[39m12\u001b[39m, \u001b[39m17\u001b[39m, \u001b[39m11\u001b[39m, \u001b[39m16\u001b[39m, \u001b[39m14\u001b[39m, \u001b[39m12\u001b[39m]\n\u001b[1;32m----> 3\u001b[0m numbers_list\u001b[39m.\u001b[39;49mremove(\u001b[39m10\u001b[39;49m)\n\u001b[0;32m      5\u001b[0m \u001b[39mprint\u001b[39m(numbers_list)\n",
      "\u001b[1;31mValueError\u001b[0m: list.remove(x): x not in list"
     ]
    }
   ],
   "source": [
    "numbers_list = [12, 17, 11, 16, 14, 12]\n",
    "\n",
    "numbers_list.remove(10)\n",
    "\n",
    "print(numbers_list)"
   ]
  },
  {
   "cell_type": "code",
   "execution_count": 41,
   "metadata": {},
   "outputs": [
    {
     "name": "stdout",
     "output_type": "stream",
     "text": [
      "Item not in the list\n",
      "[12, 17, 11, 16, 14, 12]\n"
     ]
    }
   ],
   "source": [
    "numbers_list = [12, 17, 11, 16, 14, 12]\n",
    "\n",
    "item_to_remove = 10\n",
    "\n",
    "if item_to_remove in numbers_list:\n",
    "    numbers_list.remove(10)\n",
    "    print(\"Item removed\")\n",
    "else:\n",
    "    print(\"Item not in the list\")\n",
    "\n",
    "print(numbers_list)"
   ]
  },
  {
   "cell_type": "code",
   "execution_count": 42,
   "metadata": {},
   "outputs": [
    {
     "name": "stdout",
     "output_type": "stream",
     "text": [
      "[12, 17, 11, 16, 14]\n",
      "pop() = 12\n"
     ]
    }
   ],
   "source": [
    "numbers_list = [12, 17, 11, 16, 14, 12]\n",
    "\n",
    "pop_n = numbers_list.pop()\n",
    "\n",
    "print(numbers_list)\n",
    "print(F\"pop() = {pop_n}\")"
   ]
  },
  {
   "cell_type": "code",
   "execution_count": 44,
   "metadata": {},
   "outputs": [
    {
     "name": "stdout",
     "output_type": "stream",
     "text": [
      "[12, 17, 11, 14, 12]\n",
      "pop(1) = 16\n"
     ]
    }
   ],
   "source": [
    "numbers_list = [12, 17, 11, 16, 14, 12]\n",
    "\n",
    "pop_n = numbers_list.pop(3)\n",
    "\n",
    "print(numbers_list)\n",
    "print(F\"pop(1) = {pop_n}\")"
   ]
  },
  {
   "cell_type": "code",
   "execution_count": 45,
   "metadata": {},
   "outputs": [
    {
     "ename": "IndexError",
     "evalue": "pop index out of range",
     "output_type": "error",
     "traceback": [
      "\u001b[1;31m---------------------------------------------------------------------------\u001b[0m",
      "\u001b[1;31mIndexError\u001b[0m                                Traceback (most recent call last)",
      "Cell \u001b[1;32mIn[45], line 3\u001b[0m\n\u001b[0;32m      1\u001b[0m numbers_list \u001b[39m=\u001b[39m [\u001b[39m12\u001b[39m, \u001b[39m17\u001b[39m, \u001b[39m11\u001b[39m, \u001b[39m16\u001b[39m, \u001b[39m14\u001b[39m, \u001b[39m12\u001b[39m]\n\u001b[1;32m----> 3\u001b[0m numbers_list\u001b[39m.\u001b[39;49mpop(\u001b[39m6\u001b[39;49m)\n\u001b[0;32m      5\u001b[0m \u001b[39mprint\u001b[39m(numbers_list)\n",
      "\u001b[1;31mIndexError\u001b[0m: pop index out of range"
     ]
    }
   ],
   "source": [
    "numbers_list = [12, 17, 11, 16, 14, 12]\n",
    "\n",
    "numbers_list.pop(6)\n",
    "\n",
    "print(numbers_list)"
   ]
  },
  {
   "cell_type": "code",
   "execution_count": 53,
   "metadata": {},
   "outputs": [
    {
     "name": "stdout",
     "output_type": "stream",
     "text": [
      "Index is out of range\n",
      "[12, 17, 11, 16, 14, 12]\n"
     ]
    }
   ],
   "source": [
    "numbers_list = [12, 17, 11, 16, 14, 12]\n",
    "\n",
    "index_to_remove = 10\n",
    "\n",
    "if index_to_remove < len(numbers_list):  \n",
    "    numbers_list.pop(index_to_remove)\n",
    "    print(numbers_list)\n",
    "    print(F\"pop({index_to_remove}) = {pop_n}\")\n",
    "else:\n",
    "    print(\"Index is out of range\")   \n",
    "\n",
    "print(numbers_list)"
   ]
  },
  {
   "cell_type": "code",
   "execution_count": 54,
   "metadata": {},
   "outputs": [
    {
     "name": "stdout",
     "output_type": "stream",
     "text": [
      "[12, 17, 11, 16, 14, 12]\n",
      "[]\n"
     ]
    }
   ],
   "source": [
    "numbers_list = [12, 17, 11, 16, 14, 12]\n",
    "\n",
    "print(numbers_list)\n",
    "\n",
    "numbers_list.clear()\n",
    "\n",
    "print(numbers_list)"
   ]
  },
  {
   "attachments": {},
   "cell_type": "markdown",
   "metadata": {},
   "source": [
    "## Combine Two Lists\n"
   ]
  },
  {
   "cell_type": "code",
   "execution_count": 55,
   "metadata": {},
   "outputs": [
    {
     "name": "stdout",
     "output_type": "stream",
     "text": [
      "[12, 17, 11, 16, 14, 12, 15, 18, 20]\n"
     ]
    }
   ],
   "source": [
    "numbers_list = [12, 17, 11, 16, 14, 12]\n",
    "\n",
    "numbers_list_new = [15, 18, 20]\n",
    "\n",
    "numbers_combined = numbers_list + numbers_list_new\n",
    "\n",
    "print(numbers_combined)"
   ]
  },
  {
   "cell_type": "code",
   "execution_count": null,
   "metadata": {},
   "outputs": [],
   "source": [
    "numbers_list = numbers_list + numbers_list_new"
   ]
  },
  {
   "cell_type": "code",
   "execution_count": 56,
   "metadata": {},
   "outputs": [
    {
     "name": "stdout",
     "output_type": "stream",
     "text": [
      "[12, 17, 11, 16, 14, 12, 15, 18, 20]\n"
     ]
    }
   ],
   "source": [
    "numbers_list = [12, 17, 11, 16, 14, 12]\n",
    "\n",
    "numbers_list_new = [15, 18, 20]\n",
    "\n",
    "numbers_list.extend(numbers_list_new)\n",
    "\n",
    "print(numbers_list)"
   ]
  },
  {
   "attachments": {},
   "cell_type": "markdown",
   "metadata": {},
   "source": [
    "## String Lists"
   ]
  },
  {
   "cell_type": "code",
   "execution_count": 57,
   "metadata": {},
   "outputs": [
    {
     "name": "stdout",
     "output_type": "stream",
     "text": [
      "['red', 'blue', 'green', 'red', 'red', 'green', 'blue']\n"
     ]
    }
   ],
   "source": [
    "colors_list = [\"red\", \"blue\", \"green\", \"red\", \"red\", \"green\", \"blue\"]\n",
    "print(colors_list)"
   ]
  },
  {
   "cell_type": "code",
   "execution_count": 58,
   "metadata": {},
   "outputs": [
    {
     "name": "stdout",
     "output_type": "stream",
     "text": [
      "['blue', 'blue', 'green', 'green', 'red', 'red', 'red']\n"
     ]
    }
   ],
   "source": [
    "colors_list = [\"red\", \"blue\", \"green\", \"red\", \"red\", \"green\", \"blue\"]\n",
    "colors_list.sort()\n",
    "print(colors_list)"
   ]
  },
  {
   "cell_type": "code",
   "execution_count": 59,
   "metadata": {},
   "outputs": [
    {
     "name": "stdout",
     "output_type": "stream",
     "text": [
      "red_count = 3\n"
     ]
    }
   ],
   "source": [
    "colors_list = [\"red\", \"blue\", \"green\", \"red\", \"red\", \"green\", \"blue\"]\n",
    "red_count = colors_list.count(\"red\")\n",
    "print(F\"red_count = {red_count}\")"
   ]
  },
  {
   "cell_type": "code",
   "execution_count": 60,
   "metadata": {},
   "outputs": [
    {
     "name": "stdout",
     "output_type": "stream",
     "text": [
      "red_count = 0\n"
     ]
    }
   ],
   "source": [
    "colors_list = [\"red\", \"blue\", \"green\", \"red\", \"red\", \"green\", \"blue\"]\n",
    "red_index = colors_list.index(\"red\")\n",
    "print(F\"red_count = {red_index}\")"
   ]
  },
  {
   "attachments": {},
   "cell_type": "markdown",
   "metadata": {},
   "source": [
    "### List Can Contain Mixed Types"
   ]
  },
  {
   "cell_type": "code",
   "execution_count": 61,
   "metadata": {},
   "outputs": [
    {
     "name": "stdout",
     "output_type": "stream",
     "text": [
      "['twelve', 17, '11', 16, 14.0, 12, True]\n"
     ]
    }
   ],
   "source": [
    "mixed_list = [\"twelve\", 17, \"11\", 16, 14.0, 12, True]\n",
    "\n",
    "print(mixed_list)"
   ]
  },
  {
   "cell_type": "code",
   "execution_count": 62,
   "metadata": {},
   "outputs": [
    {
     "name": "stdout",
     "output_type": "stream",
     "text": [
      "type(twelve) = <class 'str'>\n",
      "type(17) = <class 'int'>\n",
      "type(11) = <class 'str'>\n",
      "type(16) = <class 'int'>\n",
      "type(14.0) = <class 'float'>\n",
      "type(12) = <class 'int'>\n",
      "type(True) = <class 'bool'>\n"
     ]
    }
   ],
   "source": [
    "mixed_list = [\"twelve\", 17, \"11\", 16, 14.0, 12, True]\n",
    "\n",
    "for x in mixed_list:\n",
    "    print(F\"type({x}) = {type(x)}\")"
   ]
  },
  {
   "attachments": {},
   "cell_type": "markdown",
   "metadata": {},
   "source": [
    "## String to List"
   ]
  },
  {
   "cell_type": "code",
   "execution_count": 63,
   "metadata": {},
   "outputs": [],
   "source": [
    "str_color = \"green\""
   ]
  },
  {
   "cell_type": "code",
   "execution_count": 64,
   "metadata": {},
   "outputs": [
    {
     "data": {
      "text/plain": [
       "'g'"
      ]
     },
     "execution_count": 64,
     "metadata": {},
     "output_type": "execute_result"
    }
   ],
   "source": [
    "str_color[0]"
   ]
  },
  {
   "cell_type": "code",
   "execution_count": 65,
   "metadata": {},
   "outputs": [
    {
     "data": {
      "text/plain": [
       "['g', 'r', 'e', 'e', 'n']"
      ]
     },
     "execution_count": 65,
     "metadata": {},
     "output_type": "execute_result"
    }
   ],
   "source": [
    "list(str_color)"
   ]
  },
  {
   "attachments": {},
   "cell_type": "markdown",
   "metadata": {},
   "source": [
    "## List to String"
   ]
  },
  {
   "cell_type": "code",
   "execution_count": 66,
   "metadata": {},
   "outputs": [],
   "source": [
    "list_char = ['g', 'r', 'e', 'e', 'n']"
   ]
  },
  {
   "cell_type": "code",
   "execution_count": 71,
   "metadata": {},
   "outputs": [
    {
     "data": {
      "text/plain": [
       "'green'"
      ]
     },
     "execution_count": 71,
     "metadata": {},
     "output_type": "execute_result"
    }
   ],
   "source": [
    "''.join(list_char)"
   ]
  },
  {
   "cell_type": "code",
   "execution_count": 73,
   "metadata": {},
   "outputs": [
    {
     "data": {
      "text/plain": [
       "'g-r-e-e-n'"
      ]
     },
     "execution_count": 73,
     "metadata": {},
     "output_type": "execute_result"
    }
   ],
   "source": [
    "'-'.join(list_char)"
   ]
  },
  {
   "attachments": {},
   "cell_type": "markdown",
   "metadata": {},
   "source": [
    "## Change Values in a List"
   ]
  },
  {
   "cell_type": "code",
   "execution_count": 74,
   "metadata": {},
   "outputs": [
    {
     "name": "stdout",
     "output_type": "stream",
     "text": [
      "['red', 'blue', 'green', 'red', 'red', 'green', 'blue']\n",
      "1687045487872\n",
      "['red', 'blue', 'green', 'yellow', 'red', 'green', 'blue']\n",
      "1687045487872\n"
     ]
    }
   ],
   "source": [
    "# Task: Replace value in index 3 (='red') to 'yellow'\n",
    "\n",
    "colors_list = [\"red\", \"blue\", \"green\", \"red\", \"red\", \"green\", \"blue\"]\n",
    "\n",
    "print( colors_list )\n",
    "print( id(colors_list) )\n",
    "\n",
    "# Insert new value, remove old value\n",
    "colors_list.insert(3, \"yellow\")\n",
    "colors_list.pop(4)\n",
    "\n",
    "print( colors_list )\n",
    "print( id(colors_list) )"
   ]
  },
  {
   "cell_type": "code",
   "execution_count": 75,
   "metadata": {},
   "outputs": [
    {
     "name": "stdout",
     "output_type": "stream",
     "text": [
      "['red', 'blue', 'green', 'red', 'red', 'green', 'blue']\n",
      "1687045491520\n",
      "['red', 'blue', 'green', 'yellow', 'red', 'green', 'blue']\n",
      "1687045491520\n"
     ]
    }
   ],
   "source": [
    "# Task: Replace value in index 3 (='red') to 'yellow'\n",
    "\n",
    "colors_list = [\"red\", \"blue\", \"green\", \"red\", \"red\", \"green\", \"blue\"]\n",
    "\n",
    "print( colors_list )\n",
    "print( id(colors_list) )\n",
    "\n",
    "colors_list[3] = \"yellow\"\n",
    "\n",
    "print( colors_list )\n",
    "print( id(colors_list) )"
   ]
  },
  {
   "cell_type": "code",
   "execution_count": 77,
   "metadata": {},
   "outputs": [
    {
     "name": "stdout",
     "output_type": "stream",
     "text": [
      "['red', 'blue', 'green', 'red', 'red', 'green', 'blue']\n",
      "['red', 'blue', 'green', 'red', 'red', 'green', 'royal blue']\n",
      "1687045500160\n"
     ]
    }
   ],
   "source": [
    "# Task 2: Change last value from 'blue' to 'royal blue'\n",
    "\n",
    "colors_list = [\"red\", \"blue\", \"green\", \"red\", \"red\", \"green\", \"blue\"]\n",
    "\n",
    "print( colors_list )\n",
    "\n",
    "colors_list[-1] = \"royal \" + colors_list[-1]\n",
    "\n",
    "print( colors_list )\n",
    "print( id(colors_list) )"
   ]
  },
  {
   "cell_type": "code",
   "execution_count": 78,
   "metadata": {},
   "outputs": [
    {
     "name": "stdout",
     "output_type": "stream",
     "text": [
      "Color of Sky is blue\n"
     ]
    }
   ],
   "source": [
    "# Task: Use list item in an expression\n",
    " \n",
    "colors_list = [\"red\", \"blue\", \"green\", \"red\", \"red\", \"green\", \"blue\"]\n",
    "\n",
    "print( \"Color of Sky is \" + colors_list[1] )"
   ]
  },
  {
   "cell_type": "code",
   "execution_count": 80,
   "metadata": {},
   "outputs": [
    {
     "name": "stdout",
     "output_type": "stream",
     "text": [
      "[12, 17, 11, 16, 14, 12]\n",
      "[12, 17, 11, 21, 14, 12]\n"
     ]
    }
   ],
   "source": [
    "# Task: Use list item in an arithmatic expression\n",
    "\n",
    "numbers_list = [12, 17, 11, 16, 14, 12]\n",
    "\n",
    "print(numbers_list)\n",
    "\n",
    "numbers_list[3] = numbers_list[3] + 5\n",
    "\n",
    "print(numbers_list)"
   ]
  },
  {
   "attachments": {},
   "cell_type": "markdown",
   "metadata": {},
   "source": [
    "# Tuples"
   ]
  },
  {
   "cell_type": "code",
   "execution_count": 81,
   "metadata": {},
   "outputs": [
    {
     "name": "stdout",
     "output_type": "stream",
     "text": [
      "('red', 'blue', 'green', 'red', 'red', 'green', 'blue')\n"
     ]
    }
   ],
   "source": [
    "colors_tuple = (\"red\", \"blue\", \"green\", \"red\", \"red\", \"green\", \"blue\")\n",
    "print(colors_tuple)"
   ]
  },
  {
   "cell_type": "code",
   "execution_count": 82,
   "metadata": {},
   "outputs": [
    {
     "name": "stdout",
     "output_type": "stream",
     "text": [
      "('red', 'blue', 'green', 'red', 'red', 'green', 'blue')\n",
      "7\n"
     ]
    }
   ],
   "source": [
    "colors_tuple = (\"red\", \"blue\", \"green\", \"red\", \"red\", \"green\", \"blue\")\n",
    "print(colors_tuple)\n",
    "\n",
    "print ( len(colors_tuple) )"
   ]
  },
  {
   "cell_type": "code",
   "execution_count": 83,
   "metadata": {},
   "outputs": [
    {
     "name": "stdout",
     "output_type": "stream",
     "text": [
      "('red', 'blue', 'green', 'red', 'red', 'green', 'blue')\n",
      "True\n"
     ]
    }
   ],
   "source": [
    "colors_tuple = (\"red\", \"blue\", \"green\", \"red\", \"red\", \"green\", \"blue\")\n",
    "print(colors_tuple)\n",
    "\n",
    "print (\"red\" in colors_tuple)"
   ]
  },
  {
   "cell_type": "code",
   "execution_count": 84,
   "metadata": {},
   "outputs": [
    {
     "name": "stdout",
     "output_type": "stream",
     "text": [
      "('red', 'blue', 'green', 'red', 'red', 'green', 'blue')\n",
      "False\n"
     ]
    }
   ],
   "source": [
    "colors_tuple = (\"red\", \"blue\", \"green\", \"red\", \"red\", \"green\", \"blue\")\n",
    "print(colors_tuple)\n",
    "\n",
    "print (\"orange\" in colors_tuple)"
   ]
  },
  {
   "cell_type": "code",
   "execution_count": 85,
   "metadata": {},
   "outputs": [
    {
     "name": "stdout",
     "output_type": "stream",
     "text": [
      "('red', 'blue', 'green', 'red', 'red', 'green', 'blue')\n",
      "True\n"
     ]
    }
   ],
   "source": [
    "colors_tuple = (\"red\", \"blue\", \"green\", \"red\", \"red\", \"green\", \"blue\")\n",
    "print(colors_tuple)\n",
    "\n",
    "print (\"orange\" not in colors_tuple)"
   ]
  },
  {
   "cell_type": "code",
   "execution_count": 86,
   "metadata": {},
   "outputs": [
    {
     "name": "stdout",
     "output_type": "stream",
     "text": [
      "('red', 'blue', 'green', 'red', 'red', 'green', 'blue')\n",
      "2\n"
     ]
    }
   ],
   "source": [
    "colors_tuple = (\"red\", \"blue\", \"green\", \"red\", \"red\", \"green\", \"blue\")\n",
    "print(colors_tuple)\n",
    "\n",
    "print( colors_tuple.count(\"blue\") )"
   ]
  },
  {
   "cell_type": "code",
   "execution_count": 89,
   "metadata": {},
   "outputs": [
    {
     "name": "stdout",
     "output_type": "stream",
     "text": [
      "('red', 'blue', 'green', 'red', 'red', 'green', 'blue')\n",
      "0\n"
     ]
    }
   ],
   "source": [
    "colors_tuple = (\"red\", \"blue\", \"green\", \"red\", \"red\", \"green\", \"blue\")\n",
    "print(colors_tuple)\n",
    "\n",
    "print( colors_tuple.index(\"green\") )"
   ]
  },
  {
   "cell_type": "code",
   "execution_count": 90,
   "metadata": {},
   "outputs": [
    {
     "name": "stdout",
     "output_type": "stream",
     "text": [
      "('red', 'blue', 'green', 'red', 'red', 'green', 'blue')\n",
      "colors_tuple[-1]=blue\n"
     ]
    }
   ],
   "source": [
    "colors_tuple = (\"red\", \"blue\", \"green\", \"red\", \"red\", \"green\", \"blue\")\n",
    "print(colors_tuple)\n",
    "\n",
    "# Task: Get last item\n",
    "print(F\"colors_tuple[-1]={colors_tuple[-1]}\")"
   ]
  },
  {
   "cell_type": "code",
   "execution_count": 91,
   "metadata": {},
   "outputs": [
    {
     "name": "stdout",
     "output_type": "stream",
     "text": [
      "('red', 'blue', 'green', 'red', 'red', 'green', 'blue')\n",
      "colors_tuple[2]=green\n"
     ]
    }
   ],
   "source": [
    "colors_tuple = (\"red\", \"blue\", \"green\", \"red\", \"red\", \"green\", \"blue\")\n",
    "print(colors_tuple)\n",
    "\n",
    "# Task: Get item at index 2 (3rd item)\n",
    "print(F\"colors_tuple[2]={colors_tuple[2]}\")"
   ]
  },
  {
   "cell_type": "code",
   "execution_count": 92,
   "metadata": {},
   "outputs": [
    {
     "name": "stdout",
     "output_type": "stream",
     "text": [
      "('red', 'blue', 'green', 'red', 'red', 'green', 'blue')\n",
      "colors_tuple[:4]=('red', 'blue', 'green', 'red')\n",
      "colors_tuple[-4:]=('red', 'red', 'green', 'blue')\n",
      "colors_tuple[1:4]=('blue', 'green', 'red')\n"
     ]
    }
   ],
   "source": [
    "colors_tuple = (\"red\", \"blue\", \"green\", \"red\", \"red\", \"green\", \"blue\")\n",
    "print(colors_tuple)\n",
    "\n",
    "# Task 1: Get First 4 items\n",
    "print(F\"colors_tuple[:4]={colors_tuple[:4]}\")\n",
    "\n",
    "# Task 2: Get Last 4 items\n",
    "print(F\"colors_tuple[-4:]={colors_tuple[-4:]}\")\n",
    "\n",
    "# Task 3: Get Values in index 1 to 3\n",
    "print(F\"colors_tuple[1:4]={colors_tuple[1:4]}\")"
   ]
  },
  {
   "cell_type": "code",
   "execution_count": 97,
   "metadata": {},
   "outputs": [
    {
     "data": {
      "text/plain": [
       "str"
      ]
     },
     "execution_count": 97,
     "metadata": {},
     "output_type": "execute_result"
    }
   ],
   "source": [
    "type( colors_tuple[3] )"
   ]
  },
  {
   "attachments": {},
   "cell_type": "markdown",
   "metadata": {},
   "source": [
    "## Immutability"
   ]
  },
  {
   "cell_type": "code",
   "execution_count": 98,
   "metadata": {},
   "outputs": [
    {
     "data": {
      "text/plain": [
       "'red'"
      ]
     },
     "execution_count": 98,
     "metadata": {},
     "output_type": "execute_result"
    }
   ],
   "source": [
    "colors_tuple = (\"red\", \"blue\", \"green\", \"red\", \"red\", \"green\", \"blue\")\n",
    "\n",
    "colors_tuple[3]"
   ]
  },
  {
   "cell_type": "code",
   "execution_count": 99,
   "metadata": {},
   "outputs": [
    {
     "ename": "TypeError",
     "evalue": "'tuple' object does not support item assignment",
     "output_type": "error",
     "traceback": [
      "\u001b[1;31m---------------------------------------------------------------------------\u001b[0m",
      "\u001b[1;31mTypeError\u001b[0m                                 Traceback (most recent call last)",
      "Cell \u001b[1;32mIn[99], line 2\u001b[0m\n\u001b[0;32m      1\u001b[0m \u001b[39m# Task: Replace value in index 3 (='red') to 'yellow'\u001b[39;00m\n\u001b[1;32m----> 2\u001b[0m colors_tuple[\u001b[39m3\u001b[39;49m] \u001b[39m=\u001b[39m \u001b[39m\"\u001b[39m\u001b[39myellow\u001b[39m\u001b[39m\"\u001b[39m\n",
      "\u001b[1;31mTypeError\u001b[0m: 'tuple' object does not support item assignment"
     ]
    }
   ],
   "source": [
    "# Task: Replace value in index 3 (='red') to 'yellow'\n",
    "colors_tuple[3] = \"yellow\""
   ]
  },
  {
   "attachments": {},
   "cell_type": "markdown",
   "metadata": {},
   "source": [
    "## Tupeles with mixed Values"
   ]
  },
  {
   "cell_type": "code",
   "execution_count": 100,
   "metadata": {},
   "outputs": [
    {
     "name": "stdout",
     "output_type": "stream",
     "text": [
      "('twelve', 17, '11', 16, 14.0, 12, True)\n"
     ]
    }
   ],
   "source": [
    "mixed_tuple = (\"twelve\", 17, \"11\", 16, 14.0, 12, True)\n",
    "\n",
    "print(mixed_tuple)"
   ]
  },
  {
   "attachments": {},
   "cell_type": "markdown",
   "metadata": {},
   "source": [
    "## Tupels - List Converstion "
   ]
  },
  {
   "cell_type": "code",
   "execution_count": 102,
   "metadata": {},
   "outputs": [
    {
     "name": "stdout",
     "output_type": "stream",
     "text": [
      "['red', 'blue', 'green', 'red', 'red', 'green', 'blue']\n",
      "<class 'list'>\n",
      "('red', 'blue', 'green', 'red', 'red', 'green', 'blue')\n",
      "<class 'tuple'>\n"
     ]
    }
   ],
   "source": [
    "# Task: Convert List to Tuple\n",
    "\n",
    "colors_list = [\"red\", \"blue\", \"green\", \"red\", \"red\", \"green\", \"blue\"]\n",
    "\n",
    "print(colors_list)\n",
    "\n",
    "print ( type(colors_list) )\n",
    "\n",
    "colors_tuple = tuple(colors_list)\n",
    "\n",
    "print(colors_tuple)\n",
    "\n",
    "print ( type(colors_tuple) )\n"
   ]
  },
  {
   "cell_type": "code",
   "execution_count": 103,
   "metadata": {},
   "outputs": [
    {
     "name": "stdout",
     "output_type": "stream",
     "text": [
      "('red', 'blue', 'green', 'red', 'red', 'green', 'blue')\n",
      "<class 'tuple'>\n",
      "['red', 'blue', 'green', 'red', 'red', 'green', 'blue']\n",
      "<class 'list'>\n"
     ]
    }
   ],
   "source": [
    "# Task: Convert Tuple to List\n",
    "\n",
    "colors_tuple = ('red', 'blue', 'green', 'red', 'red', 'green', 'blue')\n",
    "\n",
    "print(colors_tuple)\n",
    "print ( type(colors_tuple) )\n",
    "\n",
    "colors_list_new = list(colors_tuple)\n",
    "\n",
    "print(colors_list_new)\n",
    "print ( type(colors_list_new) )"
   ]
  },
  {
   "cell_type": "code",
   "execution_count": 105,
   "metadata": {},
   "outputs": [
    {
     "name": "stdout",
     "output_type": "stream",
     "text": [
      "('red', 'blue', 'green', 'yellow', 'red', 'green', 'blue')\n"
     ]
    }
   ],
   "source": [
    "# Challange Task: Change value of a Tuple in Program execution\n",
    "colors_tuple = ('red', 'blue', 'green', 'red', 'red', 'green', 'blue')\n",
    "\n",
    "colors_list_new = list(colors_tuple)\n",
    "\n",
    "colors_list_new[3] = \"yellow\"\n",
    "\n",
    "colors_tuple = tuple(colors_list_new)\n",
    "\n",
    "print(colors_tuple)\n"
   ]
  },
  {
   "attachments": {
    "image.png": {
     "image/png": "[encoded data removed]"
    }
   },
   "cell_type": "markdown",
   "metadata": {},
   "source": [
    "# Sets\n",
    "![image.png](attachment:image.png)"
   ]
  },
  {
   "cell_type": "code",
   "execution_count": 106,
   "metadata": {},
   "outputs": [
    {
     "name": "stdout",
     "output_type": "stream",
     "text": [
      "{'green', 'red', 'blue'}\n"
     ]
    }
   ],
   "source": [
    "colors_set = {\"red\", \"blue\", \"green\", \"red\", \"red\", \"green\", \"blue\"}\n",
    "print(colors_set)"
   ]
  },
  {
   "attachments": {},
   "cell_type": "markdown",
   "metadata": {},
   "source": [
    "## Add Element"
   ]
  },
  {
   "cell_type": "code",
   "execution_count": 108,
   "metadata": {},
   "outputs": [
    {
     "name": "stdout",
     "output_type": "stream",
     "text": [
      "{'red', 'yellow', 'green', 'blue'}\n"
     ]
    }
   ],
   "source": [
    "colors_set = {\"green\", \"blue\", \"red\"}\n",
    "\n",
    "colors_set.add(\"yellow\")\n",
    "\n",
    "print(colors_set)"
   ]
  },
  {
   "attachments": {},
   "cell_type": "markdown",
   "metadata": {},
   "source": [
    "## Remove Element"
   ]
  },
  {
   "cell_type": "code",
   "execution_count": 109,
   "metadata": {},
   "outputs": [
    {
     "name": "stdout",
     "output_type": "stream",
     "text": [
      "{'red', 'yellow', 'blue'}\n"
     ]
    }
   ],
   "source": [
    "colors_set = {\"green\", \"blue\", \"red\", \"yellow\"}\n",
    "\n",
    "colors_set.remove(\"green\")\n",
    "\n",
    "print(colors_set)"
   ]
  },
  {
   "cell_type": "code",
   "execution_count": 110,
   "metadata": {},
   "outputs": [
    {
     "ename": "KeyError",
     "evalue": "'orange'",
     "output_type": "error",
     "traceback": [
      "\u001b[1;31m---------------------------------------------------------------------------\u001b[0m",
      "\u001b[1;31mKeyError\u001b[0m                                  Traceback (most recent call last)",
      "Cell \u001b[1;32mIn[110], line 3\u001b[0m\n\u001b[0;32m      1\u001b[0m colors_set \u001b[39m=\u001b[39m {\u001b[39m\"\u001b[39m\u001b[39mgreen\u001b[39m\u001b[39m\"\u001b[39m, \u001b[39m\"\u001b[39m\u001b[39mblue\u001b[39m\u001b[39m\"\u001b[39m, \u001b[39m\"\u001b[39m\u001b[39mred\u001b[39m\u001b[39m\"\u001b[39m, \u001b[39m\"\u001b[39m\u001b[39myellow\u001b[39m\u001b[39m\"\u001b[39m}\n\u001b[1;32m----> 3\u001b[0m colors_set\u001b[39m.\u001b[39;49mremove(\u001b[39m\"\u001b[39;49m\u001b[39morange\u001b[39;49m\u001b[39m\"\u001b[39;49m)\n\u001b[0;32m      5\u001b[0m \u001b[39mprint\u001b[39m(colors_set)\n",
      "\u001b[1;31mKeyError\u001b[0m: 'orange'"
     ]
    }
   ],
   "source": [
    "colors_set = {\"green\", \"blue\", \"red\", \"yellow\"}\n",
    "\n",
    "colors_set.remove(\"orange\")\n",
    "\n",
    "print(colors_set)"
   ]
  },
  {
   "cell_type": "code",
   "execution_count": 111,
   "metadata": {},
   "outputs": [
    {
     "name": "stdout",
     "output_type": "stream",
     "text": [
      "{'red', 'yellow', 'green', 'blue'}\n"
     ]
    }
   ],
   "source": [
    "colors_set = {\"green\", \"blue\", \"red\", \"yellow\"}\n",
    "\n",
    "colors_set.discard(\"orange\")\n",
    "\n",
    "print(colors_set)"
   ]
  },
  {
   "cell_type": "code",
   "execution_count": 112,
   "metadata": {},
   "outputs": [
    {
     "name": "stdout",
     "output_type": "stream",
     "text": [
      "{'red', 'yellow', 'blue'}\n"
     ]
    }
   ],
   "source": [
    "colors_set = {\"green\", \"blue\", \"red\", \"yellow\"}\n",
    "\n",
    "colors_set.discard(\"green\")\n",
    "\n",
    "print(colors_set)"
   ]
  },
  {
   "cell_type": "code",
   "execution_count": 119,
   "metadata": {},
   "outputs": [
    {
     "name": "stdout",
     "output_type": "stream",
     "text": [
      "{'red', 'yellow', 'green', 'blue'}\n",
      "red\n",
      "{'yellow', 'green', 'blue'}\n"
     ]
    }
   ],
   "source": [
    "colors_set = {\"green\", \"blue\", \"red\", \"yellow\"}\n",
    "print(colors_set)\n",
    "print(colors_set.pop())\n",
    "print(colors_set)"
   ]
  },
  {
   "cell_type": "code",
   "execution_count": 122,
   "metadata": {},
   "outputs": [
    {
     "name": "stdout",
     "output_type": "stream",
     "text": [
      "{'yellow', 'green', 'blue'}\n",
      "yellow\n",
      "{'green', 'blue'}\n"
     ]
    }
   ],
   "source": [
    "print(colors_set)\n",
    "print(colors_set.pop())\n",
    "print(colors_set)"
   ]
  },
  {
   "cell_type": "code",
   "execution_count": 123,
   "metadata": {},
   "outputs": [
    {
     "ename": "TypeError",
     "evalue": "'set' object is not subscriptable",
     "output_type": "error",
     "traceback": [
      "\u001b[1;31m---------------------------------------------------------------------------\u001b[0m",
      "\u001b[1;31mTypeError\u001b[0m                                 Traceback (most recent call last)",
      "Cell \u001b[1;32mIn[123], line 1\u001b[0m\n\u001b[1;32m----> 1\u001b[0m colors_set[\u001b[39m1\u001b[39;49m]\n",
      "\u001b[1;31mTypeError\u001b[0m: 'set' object is not subscriptable"
     ]
    }
   ],
   "source": [
    "colors_set[1]"
   ]
  },
  {
   "attachments": {},
   "cell_type": "markdown",
   "metadata": {},
   "source": [
    "## Remove All"
   ]
  },
  {
   "cell_type": "code",
   "execution_count": 125,
   "metadata": {},
   "outputs": [
    {
     "name": "stdout",
     "output_type": "stream",
     "text": [
      "{'red', 'yellow', 'green', 'blue'}\n",
      "set()\n"
     ]
    },
    {
     "data": {
      "text/plain": [
       "set()"
      ]
     },
     "execution_count": 125,
     "metadata": {},
     "output_type": "execute_result"
    }
   ],
   "source": [
    "colors_set = {\"green\", \"blue\", \"red\", \"yellow\"}\n",
    "\n",
    "print(colors_set)\n",
    "\n",
    "colors_set.clear()\n",
    "\n",
    "print(colors_set)\n",
    "colors_set"
   ]
  },
  {
   "cell_type": "code",
   "execution_count": 126,
   "metadata": {},
   "outputs": [
    {
     "name": "stdout",
     "output_type": "stream",
     "text": [
      "['red', 'yellow', 'green', 'blue']\n"
     ]
    }
   ],
   "source": [
    "colors_set = {\"green\", \"blue\", \"red\", \"yellow\"}\n",
    "\n",
    "print( list(colors_set) )"
   ]
  },
  {
   "cell_type": "code",
   "execution_count": 127,
   "metadata": {},
   "outputs": [
    {
     "name": "stdout",
     "output_type": "stream",
     "text": [
      "('red', 'yellow', 'green', 'blue')\n"
     ]
    }
   ],
   "source": [
    "colors_set = {\"green\", \"blue\", \"red\", \"yellow\"}\n",
    "\n",
    "print( tuple(colors_set) )"
   ]
  },
  {
   "cell_type": "code",
   "execution_count": 128,
   "metadata": {},
   "outputs": [
    {
     "name": "stdout",
     "output_type": "stream",
     "text": [
      "{'green', 'red', 'blue'}\n"
     ]
    }
   ],
   "source": [
    "colors_list = [\"red\", \"blue\", \"green\", \"red\", \"red\", \"green\", \"blue\"]\n",
    "\n",
    "colors_set = set(colors_list)\n",
    "\n",
    "print(colors_set)"
   ]
  },
  {
   "attachments": {
    "image.png": {
     "image/png": "[encoded data removed]"
    }
   },
   "cell_type": "markdown",
   "metadata": {},
   "source": [
    "## Set Operations\n",
    "![image.png](attachment:image.png)"
   ]
  },
  {
   "cell_type": "code",
   "execution_count": 129,
   "metadata": {},
   "outputs": [],
   "source": [
    "Un = {1, 2, 3, 4, 5, 6, 7, 8, 9}\n",
    "A = {1, 3, 5, 7, 9}\n",
    "B = {2, 3, 5, 7}"
   ]
  },
  {
   "cell_type": "code",
   "execution_count": 130,
   "metadata": {},
   "outputs": [
    {
     "name": "stdout",
     "output_type": "stream",
     "text": [
      "{1, 2, 3, 5, 7, 9}\n"
     ]
    }
   ],
   "source": [
    "print( A.union(B) )"
   ]
  },
  {
   "cell_type": "code",
   "execution_count": 131,
   "metadata": {},
   "outputs": [
    {
     "name": "stdout",
     "output_type": "stream",
     "text": [
      "{1, 2, 3, 5, 7, 9}\n"
     ]
    }
   ],
   "source": [
    "print( A|B )"
   ]
  },
  {
   "cell_type": "code",
   "execution_count": 132,
   "metadata": {},
   "outputs": [
    {
     "name": "stdout",
     "output_type": "stream",
     "text": [
      "{3, 5, 7}\n"
     ]
    }
   ],
   "source": [
    "print( A.intersection(B) )"
   ]
  },
  {
   "cell_type": "code",
   "execution_count": 133,
   "metadata": {},
   "outputs": [
    {
     "name": "stdout",
     "output_type": "stream",
     "text": [
      "{3, 5, 7}\n"
     ]
    }
   ],
   "source": [
    "print( A&B )"
   ]
  },
  {
   "cell_type": "code",
   "execution_count": 134,
   "metadata": {},
   "outputs": [
    {
     "name": "stdout",
     "output_type": "stream",
     "text": [
      "{1, 9}\n"
     ]
    }
   ],
   "source": [
    "print( A.difference(B) )"
   ]
  },
  {
   "cell_type": "code",
   "execution_count": 135,
   "metadata": {},
   "outputs": [
    {
     "name": "stdout",
     "output_type": "stream",
     "text": [
      "{1, 9}\n"
     ]
    }
   ],
   "source": [
    "print( A-B )"
   ]
  },
  {
   "attachments": {},
   "cell_type": "markdown",
   "metadata": {},
   "source": [
    "## Set Usage Example 1: Finding Unique Characters in a String"
   ]
  },
  {
   "cell_type": "code",
   "execution_count": 136,
   "metadata": {},
   "outputs": [
    {
     "name": "stdout",
     "output_type": "stream",
     "text": [
      "<class 'str'>\n"
     ]
    }
   ],
   "source": [
    "message = \"Hello Universe!\"\n",
    "print(type(message))"
   ]
  },
  {
   "cell_type": "code",
   "execution_count": 139,
   "metadata": {},
   "outputs": [
    {
     "name": "stdout",
     "output_type": "stream",
     "text": [
      "H\n",
      "i\n",
      "!\n",
      "Hello\n"
     ]
    }
   ],
   "source": [
    "print(message[0])\n",
    "print(message[8])\n",
    "print(message[-1])\n",
    "\n",
    "print(message[:5])"
   ]
  },
  {
   "cell_type": "code",
   "execution_count": 140,
   "metadata": {},
   "outputs": [
    {
     "name": "stdout",
     "output_type": "stream",
     "text": [
      "<class 'list'>\n",
      "['H', 'e', 'l', 'l', 'o', ' ', 'U', 'n', 'i', 'v', 'e', 'r', 's', 'e', '!']\n"
     ]
    }
   ],
   "source": [
    "message_as_list = list(message)\n",
    "print(type(message_as_list))\n",
    "print(message_as_list)"
   ]
  },
  {
   "cell_type": "code",
   "execution_count": 141,
   "metadata": {},
   "outputs": [
    {
     "name": "stdout",
     "output_type": "stream",
     "text": [
      "H\n",
      "i\n",
      "!\n",
      "['H', 'e', 'l', 'l', 'o']\n"
     ]
    }
   ],
   "source": [
    "print(message_as_list[0])\n",
    "print(message_as_list[8])\n",
    "print(message_as_list[-1])\n",
    "\n",
    "print(message_as_list[0:5])"
   ]
  },
  {
   "cell_type": "code",
   "execution_count": 142,
   "metadata": {},
   "outputs": [
    {
     "name": "stdout",
     "output_type": "stream",
     "text": [
      "<class 'set'>\n",
      "{'r', '!', 'e', 'l', 'H', ' ', 's', 'v', 'U', 'i', 'n', 'o'}\n"
     ]
    }
   ],
   "source": [
    "message_as_set = set(message)\n",
    "print(type(message_as_set))\n",
    "print(message_as_set)"
   ]
  },
  {
   "cell_type": "code",
   "execution_count": 144,
   "metadata": {},
   "outputs": [
    {
     "name": "stdout",
     "output_type": "stream",
     "text": [
      "15\n",
      "15\n",
      "12\n"
     ]
    }
   ],
   "source": [
    "print( len(message))\n",
    "print( len(message_as_list))\n",
    "print( len(message_as_set))"
   ]
  },
  {
   "attachments": {},
   "cell_type": "markdown",
   "metadata": {},
   "source": [
    "## Set Usage Example 2: Finding Words in a Paragraph"
   ]
  },
  {
   "cell_type": "code",
   "execution_count": 145,
   "metadata": {},
   "outputs": [
    {
     "name": "stdout",
     "output_type": "stream",
     "text": [
      "['time', 'flies', 'like', 'arrow.', 'fruit', 'flies', 'like', 'banana.']\n",
      "<class 'list'>\n",
      "8\n"
     ]
    }
   ],
   "source": [
    "# Task 1: Split text into list of words\n",
    "\n",
    "text = \"time flies like arrow. fruit flies like banana.\"\n",
    "\n",
    "words = text.split()\n",
    "\n",
    "print(words)\n",
    "print(type(words))\n",
    "print(len(words))"
   ]
  },
  {
   "cell_type": "code",
   "execution_count": 146,
   "metadata": {},
   "outputs": [
    {
     "name": "stdout",
     "output_type": "stream",
     "text": [
      "{'time', 'fruit', 'flies', 'arrow.', 'banana.', 'like'}\n",
      "<class 'set'>\n",
      "6\n"
     ]
    }
   ],
   "source": [
    "# Task 2: Find Unique words.\n",
    "\n",
    "words = ['time', 'flies', 'like', 'arrow.', 'fruit', 'flies', 'like', 'banana.']\n",
    "\n",
    "unique_words = set(words)\n",
    "\n",
    "print(unique_words)\n",
    "print(type(unique_words))\n",
    "print(len(unique_words))"
   ]
  },
  {
   "cell_type": "code",
   "execution_count": 147,
   "metadata": {},
   "outputs": [
    {
     "name": "stdout",
     "output_type": "stream",
     "text": [
      "['time', 'flies', 'like', 'arrow.', 'fruit', 'flies', 'like', 'banana.']\n",
      "<class 'list'>\n",
      "8\n",
      "['time', 'fruit', 'flies', 'arrow.', 'banana.', 'like']\n",
      "<class 'list'>\n",
      "6\n"
     ]
    }
   ],
   "source": [
    "# Task 3: Put them all togetehr to get list of unique words\n",
    "\n",
    "text = \"time flies like arrow. fruit flies like banana.\"\n",
    "\n",
    "words = text.split()\n",
    "\n",
    "unique_wrods = list( set(words) ) # two conversions\n",
    "\n",
    "print(words)\n",
    "print(type(words))\n",
    "print(len(words))\n",
    "\n",
    "print(unique_wrods)\n",
    "print(type(unique_wrods))\n",
    "print(len(unique_wrods))"
   ]
  },
  {
   "attachments": {},
   "cell_type": "markdown",
   "metadata": {},
   "source": [
    "# Dictionaries"
   ]
  },
  {
   "cell_type": "code",
   "execution_count": null,
   "metadata": {},
   "outputs": [],
   "source": []
  },
  {
   "attachments": {},
   "cell_type": "markdown",
   "metadata": {},
   "source": [
    "# Collections Module"
   ]
  },
  {
   "cell_type": "code",
   "execution_count": null,
   "metadata": {},
   "outputs": [],
   "source": []
  },
  {
   "attachments": {},
   "cell_type": "markdown",
   "metadata": {},
   "source": [
    "<hr/>\n",
    "© 2021-2023 Sumudu Tennakoon\n",
    "\n",
    "<a rel=\"license\" href=\"http://creativecommons.org/licenses/by-nc-sa/4.0/\"><img alt=\"Creative Commons License\" style=\"border-width:0\" src=\"https://i.creativecommons.org/l/by-nc-sa/4.0/88x31.png\" /></a><br />This work is licensed under a <a rel=\"license\" href=\"http://creativecommons.org/licenses/by-nc-sa/4.0/\">Creative Commons Attribution-NonCommercial-ShareAlike 4.0 International License</a>."
   ]
  }
 ],
 "metadata": {
  "kernelspec": {
   "display_name": ".venv",
   "language": "python",
   "name": "python3"
  },
  "language_info": {
   "codemirror_mode": {
    "name": "ipython",
    "version": 3
   },
   "file_extension": ".py",
   "mimetype": "text/x-python",
   "name": "python",
   "nbconvert_exporter": "python",
   "pygments_lexer": "ipython3",
   "version": "3.10.10"
  },
  "orig_nbformat": 4
 },
 "nbformat": 4,
 "nbformat_minor": 2
}
